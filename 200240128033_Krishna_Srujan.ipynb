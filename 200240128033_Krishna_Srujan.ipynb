{
 "cells": [
  {
   "cell_type": "code",
   "execution_count": null,
   "metadata": {
    "id": "9Dx5PSmA1DRZ"
   },
   "outputs": [],
   "source": [
    "#!/usr/bin/env python3\n",
    "# -*- coding: utf-8 -*-"
   ]
  },
  {
   "cell_type": "markdown",
   "metadata": {
    "id": "8bhxisJ_1DRb"
   },
   "source": [
    "## Dynamic Programming Refresher\n",
    "### Reinforcement Learning\n",
    "<p style=\"color:blue;\">\n",
    "By Pramod Sharma : pramod.sharma@prasami.com\n",
    "<p>\n",
    "Dated : 07-Sep-2018"
   ]
  },
  {
   "cell_type": "code",
   "execution_count": null,
   "metadata": {
    "id": "X5Now20r1DRb"
   },
   "outputs": [],
   "source": [
    "## Import Statements\n",
    "import sys\n",
    "import os\n",
    "import numpy as np\n",
    "import matplotlib.pyplot as plt\n",
    "import random\n",
    "import unittest"
   ]
  },
  {
   "cell_type": "code",
   "execution_count": null,
   "metadata": {
    "id": "tfUl0Yjr1DRb"
   },
   "outputs": [],
   "source": [
    "# Setup inline display and other matplotlib parameters\n",
    "# Some basic parameters\n",
    "inpDir = '../input'\n",
    "outDir = '../output'\n",
    "\n",
    "RANDOM_STATE = 24\n",
    "STEPS = 200\n",
    "\n",
    "# parameters for Matplotlib\n",
    "params = {'legend.fontsize': 'x-large',\n",
    "          'figure.figsize': (9, 6),\n",
    "          'axes.labelsize': 'x-large',\n",
    "          'axes.titlesize':'x-large',\n",
    "          'xtick.labelsize':'x-large',\n",
    "          'ytick.labelsize':'x-large'\n",
    "         }\n",
    "\n",
    "plt.rcParams.update(params)"
   ]
  },
  {
   "cell_type": "markdown",
   "metadata": {
    "id": "AK79K8vN1DRc"
   },
   "source": [
    "## 1. Tree and Graphs\n",
    "\n",
    "Tree and graph problems are some of the trickiest. Searching a tree is more complicated than searching in a linearly organized data structure such as an array or linked list. Additionally, the worst case and average case time may vary wildly, and we must evaluate both aspects of any\n",
    "algorithm.\n",
    "\n",
    "For getting a good handle in RL, fluency in implementing a tree or graph from scratch will prove essential.\n",
    "\n",
    "Because most people are more familiar with trees than graphs (and they're a bit simpler), we'll discuss trees\n",
    "first. This is a bit out of order though, as a tree is actually a type of graph.</p>\n",
    "\n",
    "\n",
    "### 1.1 Types of Trees\n",
    "A nice way to understand a tree is with a recursive explanation. \n",
    "- A tree is a data structure composed of nodes.\n",
    "- Each tree has a root node. \n",
    "- The root node has zero or more child nodes.  \n",
    "- Each child node has zero or more child nodes, and so on.\n",
    "- The tree cannot contain cycles.\n",
    "- The nodes may or may not be in a particular order, they could have any data type as values, and they may or may not have links back to their parent nodes.\n",
    "\n",
    "\n",
    "### 1.2 Trees vs. Binary Trees\n",
    "A binary tree is a tree in which each node has up to two children. Not all trees are binary trees. For example,\n",
    "this tree is not a binary tree. You could call it a ternary tree."
   ]
  },
  {
   "cell_type": "markdown",
   "metadata": {
    "id": "fsVgOB6Z1DRd"
   },
   "source": [
    "<img src='./images/binary_tree.png' alt='Tree' style='width: 600px;'>"
   ]
  },
  {
   "cell_type": "markdown",
   "metadata": {
    "id": "drCAnJzg1DRd"
   },
   "source": [
    "### Binary Tree vs. Binary Search Tree\n",
    "A binary search tree is a binary tree in which every node fits a specific ordering property:<br>\n",
    "`all left descendents <= n < all right descendents`<br> This must be true for each node n.\n",
    "\n",
    "### Balanced vs. Unbalanced\n",
    "While many trees are balanced, not all are. Note that balancing a tree does not mean the left and right subtrees are exactly the same size (like you see under \"perfect binary trees\" in the diagram above)."
   ]
  },
  {
   "cell_type": "markdown",
   "metadata": {
    "id": "qMAF8Cg31DRd"
   },
   "source": [
    "<img src='./images/binary_tree_2.png' style='width:800px;'>"
   ]
  },
  {
   "cell_type": "markdown",
   "metadata": {
    "id": "KJAIPUTM1DRd"
   },
   "source": [
    "## In-Order Traversal\n",
    "In-order traversal means to \"visit\" (often, print) the left branch, then the current node, and finally, the right\n",
    "branch. When performed on a binary search tree, it visits the nodes in ascending order (hence the name \"in-order\").\n",
    "## Pre-Order Traversal\n",
    "Pre-order traversal visits the current node before its child nodes (hence the name \"pre-order\"). In a pre-order traversal, the root is always the first node visited.\n",
    "## Post-Order Traversal\n",
    "Post-order traversal visits the current node after its child nodes (hence the name \"post-order\"). In a post-order traversal, the root is always the last node visited."
   ]
  },
  {
   "cell_type": "code",
   "execution_count": null,
   "metadata": {
    "id": "knTERKf71DRd"
   },
   "outputs": [],
   "source": [
    "class Node(object):\n",
    "    \n",
    "    def __init__(self, value):\n",
    "        self.value = value\n",
    "        self.left = None\n",
    "        self.right = None\n",
    "        \n",
    "class BinaryTree(object):\n",
    "    \n",
    "    def __init__(self, root):\n",
    "        self.root = Node(root)\n",
    "        \n",
    "    def fn_print_tree(self, traverse_type):\n",
    "        \n",
    "        if traverse_type == 'preorder':\n",
    "            return print (self.fn_preorder_traverse(tree.root, ''))\n",
    "       \n",
    "        elif traverse_type == 'inorder':\n",
    "            return print (self.fn_inorder_traverse(tree.root, ''))\n",
    "        \n",
    "        elif traverse_type == 'postorder':\n",
    "            return print (self.fn_postorder_traverse(tree.root, ''))\n",
    "        \n",
    "        else:\n",
    "            print ('traverse type not supported')\n",
    "        \n",
    "    def fn_preorder_traverse(self, start, traverse):\n",
    "        if start:\n",
    "            traverse += ('{}-'.format(start.value))\n",
    "            traverse = self.fn_preorder_traverse(start.left, traverse)\n",
    "            traverse = self.fn_preorder_traverse(start.right, traverse)\n",
    "        return traverse\n",
    "    \n",
    "    def fn_inorder_traverse(self, start, traverse):\n",
    "        if start:\n",
    "            traverse = self.fn_inorder_traverse(start.left, traverse)\n",
    "            traverse += ('{}-'.format(start.value))\n",
    "            traverse = self.fn_inorder_traverse(start.right, traverse)\n",
    "        return traverse\n",
    "    \n",
    "    def fn_postorder_traverse(self, start, traverse):\n",
    "        if start:\n",
    "            traverse = self.fn_postorder_traverse(start.left, traverse)\n",
    "            traverse = self.fn_postorder_traverse(start.right, traverse)\n",
    "            traverse += ('{}-'.format(start.value))\n",
    "        return traverse"
   ]
  },
  {
   "cell_type": "markdown",
   "metadata": {
    "id": "-t2RK4-z1DRe"
   },
   "source": [
    "<img src='./images/binary_tree_4.png' style='width:600px;'>"
   ]
  },
  {
   "cell_type": "code",
   "execution_count": null,
   "metadata": {
    "id": "_pSfCmtg1DRe",
    "outputId": "3092fbde-3463-4490-dd9a-6cee7d492a8c"
   },
   "outputs": [
    {
     "name": "stdout",
     "output_type": "stream",
     "text": [
      "PreOrder:  A-B-D-F-G-E-C-H-I-\n",
      "InOrder :  F-D-G-B-E-A-H-C-I-\n",
      "Postorder :  F-G-D-E-B-H-I-C-A-\n"
     ]
    }
   ],
   "source": [
    "tree = BinaryTree('A')\n",
    "\n",
    "tree.root.left = Node('B')\n",
    "tree.root.right = Node('C')\n",
    "\n",
    "tree.root.left.left = Node('D')\n",
    "tree.root.left.right = Node('E')\n",
    "\n",
    "tree.root.left.left.left = Node('F')\n",
    "tree.root.left.left.right = Node('G')\n",
    "\n",
    "tree.root.right.left = Node('H')\n",
    "tree.root.right.right = Node('I')\n",
    "\n",
    "print ('PreOrder: ', end = ' ')\n",
    "tree.fn_print_tree('preorder')\n",
    "\n",
    "print ('InOrder : ', end = ' ')\n",
    "tree.fn_print_tree('inorder')\n",
    "\n",
    "print ('Postorder : ', end = ' ')\n",
    "tree.fn_print_tree('postorder')"
   ]
  },
  {
   "cell_type": "markdown",
   "metadata": {
    "id": "6Uvzrzqy1DRj"
   },
   "source": [
    "### Demo 1.1 Route Between Nodes: \n",
    "Given a directed graph, design an algorithm to find out whether there is a route between two nodes.\n",
    "\n",
    "**Design:**\n",
    "- class Node:\n",
    "     - Attributes: \n",
    "         - name,\n",
    "         - adjacent_nodes,\n",
    "         - shortest_path\n",
    "    - Methods:\n",
    "        - add_edge\n",
    "        - set_short_path\n",
    "- class Queue\n",
    "    - Attributes: \n",
    "         - array : containing the list of nodes\n",
    "    - Methods:\n",
    "        - put_item\n",
    "        - get_item\n",
    "\n",
    "**Algo:**\n",
    "1. select start node\n",
    "2. iterate over adjacent nodes\n",
    "3. add nodes's short path to adjacent nodes\n",
    "4. add adjecent nodes to queue\n",
    "5. add adjecent nodes to visited nodes (a local list)"
   ]
  },
  {
   "cell_type": "code",
   "execution_count": null,
   "metadata": {
    "id": "UsZjq2tV1DRj"
   },
   "outputs": [],
   "source": [
    "class Node (object):\n",
    "    \n",
    "    def __init__(self, name, adjacent_nodes = None):\n",
    "        \n",
    "        self.name = name \n",
    "        self.adjacent_nodes = adjacent_nodes or []\n",
    "        self.short_path = None\n",
    "    \n",
    "    def add_edge(self, node):\n",
    "        if isinstance(node, Node):\n",
    "            self.adjacent_nodes.append(node)\n",
    "    \n",
    "    def __str__(self):\n",
    "        return '{}'.format(self.name)\n",
    "    \n",
    "    __repr__ = __str__"
   ]
  },
  {
   "cell_type": "code",
   "execution_count": null,
   "metadata": {
    "id": "kcUfjXjr1DRk"
   },
   "outputs": [],
   "source": [
    "# Helper Functions\n",
    "#convert path to string\n",
    "def to_string(path):\n",
    "\n",
    "    if path is not None:\n",
    "        nd_nms = [x.name for x in path]\n",
    "        return('->'.join(nd_nms))\n",
    "    else:\n",
    "        return 'None'"
   ]
  },
  {
   "cell_type": "code",
   "execution_count": null,
   "metadata": {
    "id": "yrDWhgvd1DRk"
   },
   "outputs": [],
   "source": [
    "def find_route(node1, node2):\n",
    "    \n",
    "    if isinstance(node1, Node) and isinstance(node2, Node): # verify if both inputs are node\n",
    "        found_path = None # define found path variable\n",
    "        q = Queue() # Create a Queue object\n",
    "        v_nds = []  # this is list of visited nodes\n",
    "        curr = node1 # input node is defined as current node\n",
    "        curr.short_path = [curr] # append current node to 'short_path'\n",
    "        node2.short_path = None\n",
    "        v_nds = [curr]\n",
    "        \n",
    "        while curr:\n",
    "            \n",
    "            #print ('Current Node:', curr, 'Short_path:', to_string(curr.short_path))\n",
    "            #print ('Queue:', q)\n",
    "            \n",
    "            for adj in curr.adjacent_nodes:\n",
    "                \n",
    "                #print ('Adj Node:', adj, end = ' ')\n",
    "\n",
    "                if not adj.short_path:\n",
    "\n",
    "                    adj.short_path = curr.short_path + [adj] # add current nodes shortest path to adjacent node\n",
    "\n",
    "                    if adj == node2:\n",
    "                        found_path = curr.short_path + [adj]\n",
    "                        break\n",
    "                        \n",
    "                    q.put_item(adj)\n",
    "                    \n",
    "                    v_nds.append(adj)\n",
    "                \n",
    "                print ('Path:', to_string(adj.short_path))\n",
    "\n",
    "                    \n",
    "            curr = q.get_item() # get next node from queue\n",
    "            \n",
    "        print ('\\n Clearing :')\n",
    "        \n",
    "        for nd in v_nds: # make all null for future search\n",
    "            print(nd.name, end =' ')\n",
    "            nd.short_path = None\n",
    "        print ('')\n",
    "        \n",
    "        return found_path\n",
    "        \n",
    "    else:\n",
    "        print ( 'Only Node object allowed' )\n",
    "\n",
    "\n",
    "class Queue ():\n",
    "    \n",
    "    def __init__( self ):\n",
    "        self.array = []\n",
    "    \n",
    "    def put_item(self, node):\n",
    "        self.array.append(node)\n",
    "        \n",
    "    def get_item(self):\n",
    "        if not len(self.array):\n",
    "            return None\n",
    "        return self.array.pop(0)\n",
    "    \n",
    "    def is_empty(self):\n",
    "        return len(self.array) == 0\n",
    "    \n",
    "    def __str__ (self):\n",
    "        nd_nms = [x.name for x in self.array]\n",
    "        return ','.join(nd_nms)"
   ]
  },
  {
   "cell_type": "markdown",
   "metadata": {
    "id": "g7CrIOJF1DRk"
   },
   "source": [
    "<img src = './images/binary_tree_3.png' style='width:600px;'>"
   ]
  },
  {
   "cell_type": "code",
   "execution_count": null,
   "metadata": {
    "id": "NEZy9KMY1DRk",
    "outputId": "89179df1-3be3-401d-91e2-50d1815cb3c1"
   },
   "outputs": [
    {
     "name": "stderr",
     "output_type": "stream",
     "text": [
      "."
     ]
    },
    {
     "name": "stdout",
     "output_type": "stream",
     "text": [
      "Path: A->B\n",
      "Path: A->C\n",
      "Path: A->D\n",
      "Path: A->B->J\n",
      "Path: A->C->G\n",
      "Path: A\n",
      "Path: A->D\n",
      "Path: A->C->G->H\n",
      "\n",
      " Clearing :\n",
      "A B C D J G H \n",
      "Path: A->B\n",
      "Path: A->C\n",
      "Path: A->D\n",
      "Path: A->C->G\n",
      "Path: A\n",
      "Path: A->D\n",
      "Path: A->C->G->H\n",
      "\n",
      " Clearing :\n",
      "A B C D G H \n",
      "Path: A->B\n",
      "Path: A->C\n",
      "Path: A->D\n",
      "Path: A->B->J\n",
      "Path: A->C->G\n",
      "Path: A\n",
      "Path: A->D\n",
      "Path: A->C->G->H\n",
      "\n",
      " Clearing :\n",
      "A B C D G H \n"
     ]
    },
    {
     "name": "stderr",
     "output_type": "stream",
     "text": [
      "\n",
      "----------------------------------------------------------------------\n",
      "Ran 1 test in 0.008s\n",
      "\n",
      "OK\n"
     ]
    }
   ],
   "source": [
    "# Test Harness\n",
    "\n",
    "class Test(unittest.TestCase):\n",
    "    \n",
    "    def test_find_route(self):\n",
    "        node_j = Node('J')\n",
    "        node_i = Node('I')\n",
    "        node_h = Node('H')\n",
    "        node_d = Node('D')\n",
    "        node_f = Node('F', [node_i])\n",
    "        node_b = Node('B', [node_j])\n",
    "        node_g = Node('G', [node_d, node_h])\n",
    "        node_c = Node('C', [node_g])\n",
    "        node_a = Node('A', [node_b, node_c, node_d])\n",
    "        node_e = Node('E', [node_f, node_a])\n",
    "        node_d.add_edge(node_a)\n",
    "        self.assertEqual(to_string(find_route(node_a, node_i)), 'None')\n",
    "        self.assertEqual(to_string(find_route(node_a, node_j)), 'A->B->J')\n",
    "        node_h.add_edge(node_i)\n",
    "        self.assertEqual(to_string(find_route(node_a, node_i)), 'A->C->G->H->I')\n",
    "\n",
    "\n",
    "if __name__ == '__main__':\n",
    "    unittest.main(argv=['to be ignored'], exit=False)"
   ]
  },
  {
   "cell_type": "markdown",
   "metadata": {
    "id": "o7pM3pXt1DRn"
   },
   "source": [
    "### Ex 1.2 Minimal Tree:\n",
    "Given a sorted (increasing order) array with unique integer elements, write an algorithm to create a binary search tree with minimal height.\n",
    "\n",
    "**Design:**\n",
    "- class Node:\n",
    "     - Attributes: \n",
    "         - name,\n",
    "         - left,\n",
    "         - right\n",
    "    - Methods:\n",
    "        - add_edge\n",
    "        - set_short_path\n",
    "- Create Tree with recursion"
   ]
  },
  {
   "cell_type": "code",
   "execution_count": null,
   "metadata": {
    "id": "WP-LzKux1DRn"
   },
   "outputs": [],
   "source": [
    "# This function to be coded\n",
    "'''\n",
    "    Divide array in three parts, left array, right array and middle value\n",
    "    Call the recursively and return Node with values as Middle, left_array, right_array\n",
    "'''\n",
    "def create_Tree(array):\n",
    "    \n",
    "    #Base condition : Think of minimum valid input\n",
    "    if len(array) == 1:\n",
    "        return Node(array[0],None, None )\n",
    "    \n",
    "    elif len(array) ==2:\n",
    "        return Node(array[1],array[0],None)\n",
    "    \n",
    "    else:\n",
    "        # Find middle value\n",
    "        middle = int(len(array)/2)\n",
    "\n",
    "        # Create Left Array\n",
    "        left_array = array[:middle]\n",
    "        left_array = create_Tree(left_array)\n",
    "\n",
    "        # Create right array\n",
    "        right_array = array[middle+1:]\n",
    "        right_array = create_Tree(right_array)\n",
    "\n",
    "        # Return node constructed from above\n",
    "        return Node(array[middle],left_array, right_array)\n",
    "\n",
    "# Node Class    \n",
    "class Node (object):\n",
    "    \n",
    "    def __init__(self, data, left, right):\n",
    "        self.data = data\n",
    "        self.left = left\n",
    "        self.right = right\n",
    "    \n",
    "    def __str__(self):\n",
    "        return '{}'.format(self.data)\n",
    "    \n",
    "    __repr__ = __str__"
   ]
  },
  {
   "cell_type": "code",
   "execution_count": null,
   "metadata": {
    "id": "ESERA5k01DRn",
    "outputId": "87c3cc7c-c9c7-4c46-dbca-9594552bf55c"
   },
   "outputs": [
    {
     "name": "stderr",
     "output_type": "stream",
     "text": [
      "..\n",
      "----------------------------------------------------------------------\n",
      "Ran 2 tests in 0.002s\n",
      "\n",
      "OK\n"
     ]
    }
   ],
   "source": [
    "# Test Harness\n",
    "\n",
    "class Test(unittest.TestCase):\n",
    "    array = [1, 2, 3, 4, 5, 6, 7, 8, 9, 10, 11, 12]\n",
    "    node = create_Tree(array)\n",
    "    \n",
    "    def test_left(self):\n",
    "        self.assertEqual(self.node.data, 7)\n",
    "        self.assertEqual(self.node.left.data, 4)\n",
    "        self.assertEqual(self.node.left.left.data, 2)\n",
    "        self.assertEqual(self.node.left.left.left.data, 1)\n",
    "        \n",
    "    def test_right(self):\n",
    "        self.assertEqual(self.node.data, 7)\n",
    "        self.assertEqual(self.node.right.data, 10)\n",
    "        self.assertEqual(self.node.right.right.data, 12)\n",
    "        \n",
    "if __name__ == '__main__':\n",
    "    unittest.main(argv=['to be ignored'], exit=False)"
   ]
  },
  {
   "cell_type": "markdown",
   "metadata": {
    "id": "6gAIXxKw1DRo"
   },
   "source": [
    "### Ex 1.3 Check Subtree: \n",
    "Tl and T2 are two very large binary trees, with Tl much bigger than T2. Create an algorithm to determine if T2 is a subtree of Tl. A tree T2 is a subtree of Tl if there exists a node n in Tl such that the subtree of n is identical to T2. That is, if you cut off the tree at node n, the two trees would be identical.\n",
    "\n",
    "**Hint**:\n",
    "Two condition to match for it to be a sub tree. Both pre and post orders will be a subset."
   ]
  },
  {
   "cell_type": "code",
   "execution_count": null,
   "metadata": {
    "id": "oe7woWtk1DRo"
   },
   "outputs": [],
   "source": [
    "class Node(object):\n",
    "\n",
    "    def __init__(self, value, left = None, right = None):\n",
    "        \n",
    "        self.value  = value\n",
    "        self.left   = left\n",
    "        self.right  = right\n",
    "\n",
    "    def __str__ (self):\n",
    "        return '{}, [{},{}]'.format(self.value, \n",
    "                                    self.left, \n",
    "                                    self.right)\n",
    "    "
   ]
  },
  {
   "cell_type": "code",
   "execution_count": null,
   "metadata": {
    "id": "RBmaH2MB1DRo"
   },
   "outputs": [],
   "source": [
    "class BST(object):\n",
    "    \n",
    "    def __init__ (self, root: Node):\n",
    "        \n",
    "        self.root = root\n",
    "        self.inOrderList = []\n",
    "        self.preOrderList = []\n",
    "        self.postOrderList = []\n",
    "    \n",
    "    def insert (self, nd : Node = None):\n",
    "        \n",
    "        if isinstance(nd, Node):\n",
    "            if self.root is None:\n",
    "                self.root = nd\n",
    "            else:\n",
    "                self._insert(nd, self.root)\n",
    "    \n",
    "    def _insert(self, nd: Node, curr: Node):\n",
    "        \n",
    "        if nd.value == curr.value:\n",
    "            \n",
    "            return 'Value exists'\n",
    "            \n",
    "        if nd.value < curr.value:\n",
    "            if curr.left == None:\n",
    "                curr.left = nd\n",
    "            else:\n",
    "                curr = curr.left\n",
    "                \n",
    "        if nd.value > curr.value:\n",
    "            if curr.right == None:\n",
    "                curr.right = nd\n",
    "            else:\n",
    "                curr = curr.right\n",
    "        \n",
    "        return self._insert(nd, curr)\n",
    "    \n",
    "    def in_order(self, nd):\n",
    "\n",
    "        if nd:\n",
    "            self.inOrderList.append(nd.value)\n",
    "            self.in_order(nd.left)\n",
    "            self.in_order(nd.right)\n",
    "            return self.inOrderList\n",
    "        \n",
    "    def pre_order(self, nd):\n",
    "        \n",
    "        if nd:\n",
    "            self.pre_order(nd.left)\n",
    "            self.preOrderList.append(nd.value)\n",
    "            self.pre_order(nd.right)\n",
    "            return self.preOrderList\n",
    "            \n",
    "    def post_order(self, nd):\n",
    "\n",
    "        if nd:\n",
    "            self.post_order(nd.left)\n",
    "            self.post_order(nd.right)\n",
    "            self.postOrderList.append(nd.value)\n",
    "            return self.postOrderList\n",
    "\n",
    "    def __str__ (self):\n",
    "        return str(self.root)"
   ]
  },
  {
   "cell_type": "code",
   "execution_count": null,
   "metadata": {
    "id": "vCnyRqRT1DRp"
   },
   "outputs": [],
   "source": [
    "#### Code here...\n",
    "\n",
    "def is_subset(main,sub):\n",
    "    if(all(x in main for x in sub)): \n",
    "        return True\n",
    "    else:\n",
    "        return False"
   ]
  },
  {
   "cell_type": "code",
   "execution_count": null,
   "metadata": {
    "id": "ae9JeGgU1DRp"
   },
   "outputs": [],
   "source": [
    "def check_sub_tree(t1, t2):\n",
    "    \n",
    "    #### Code here...\n",
    "    #Case 1: Pre-Order\n",
    "    t1_preorder = t1.pre_order(bst_t1.root)\n",
    "    t2_preorder = t2.pre_order(bst_t2.root)\n",
    "    #Case 2: Pre-Order\n",
    "    t1_postorder = t1.post_order(bst_t1.root)\n",
    "    t2_postorder = t2.post_order(bst_t2.root)\n",
    "    # check if both Pre and Post are subset, then its a sub tree\n",
    "    if is_subset(t1_preorder,t2_preorder) and is_subset(t1_postorder,t2_postorder) : return True\n",
    "    else: return False"
   ]
  },
  {
   "cell_type": "code",
   "execution_count": null,
   "metadata": {
    "id": "R6sebeV71DRp",
    "outputId": "32f00023-7b9e-4752-8105-4c4dd8adf1fd"
   },
   "outputs": [
    {
     "name": "stdout",
     "output_type": "stream",
     "text": [
      "Root Node : 16, [8, [4, [2, [None,None],6, [None,None]],12, [10, [None,None],14, [None,None]]],24, [20, [18, [None,None],22, [None,None]],28, [26, [None,None],30, [None,None]]]] \n",
      "\n",
      "In Order list   : [16, 8, 4, 2, 6, 12, 10, 14, 24, 20, 18, 22, 28, 26, 30]\n",
      "Pre Order list  : [2, 4, 6, 8, 10, 12, 14, 16, 18, 20, 22, 24, 26, 28, 30]\n",
      "Post Order list : [2, 6, 4, 10, 14, 12, 8, 18, 22, 20, 26, 30, 28, 24, 16]\n"
     ]
    }
   ],
   "source": [
    "# Lets define two trees\n",
    "\n",
    "bst_t1 = BST(Node(16))\n",
    "bst_t1.insert(Node(8))\n",
    "bst_t1.insert(Node(24))\n",
    "bst_t1.insert(Node(4))\n",
    "bst_t1.insert(Node(12))\n",
    "bst_t1.insert(Node(20))\n",
    "bst_t1.insert(Node(28))\n",
    "bst_t1.insert(Node(2))\n",
    "bst_t1.insert(Node(6))\n",
    "bst_t1.insert(Node(10))\n",
    "bst_t1.insert(Node(14))\n",
    "bst_t1.insert(Node(18))\n",
    "bst_t1.insert(Node(22))\n",
    "bst_t1.insert(Node(26))\n",
    "bst_t1.insert(Node(30))\n",
    "print ('Root Node :', bst_t1.root,'\\n')\n",
    "print ('In Order list   :', bst_t1.in_order(bst_t1.root))\n",
    "\n",
    "print ('Pre Order list  :', bst_t1.pre_order(bst_t1.root))\n",
    "\n",
    "print ('Post Order list :', bst_t1.post_order(bst_t1.root))"
   ]
  },
  {
   "cell_type": "code",
   "execution_count": null,
   "metadata": {
    "id": "mN4JBn3b1DRp",
    "outputId": "ed1c9f05-63dd-4d63-b1d9-87661cba7df3"
   },
   "outputs": [
    {
     "name": "stdout",
     "output_type": "stream",
     "text": [
      "Root Node : 24, [20, [18, [None,None],22, [None,None]],28, [26, [None,None],30, [None,None]]] \n",
      "\n",
      "In Order list   : [24, 20, 18, 22, 28, 26, 30]\n",
      "Pre Order list  : [18, 20, 22, 24, 26, 28, 30]\n",
      "Post Order list : [18, 22, 20, 26, 30, 28, 24]\n"
     ]
    }
   ],
   "source": [
    "bst_t2 = BST(Node(24))\n",
    "bst_t2.insert(Node(20))\n",
    "bst_t2.insert(Node(28))\n",
    "bst_t2.insert(Node(18))\n",
    "bst_t2.insert(Node(22))\n",
    "bst_t2.insert(Node(26))\n",
    "bst_t2.insert(Node(30))\n",
    "\n",
    "print ('Root Node :', bst_t2.root,'\\n')\n",
    "print ('In Order list   :', bst_t2.in_order(bst_t2.root))\n",
    "\n",
    "print ('Pre Order list  :', bst_t2.pre_order(bst_t2.root))\n",
    "\n",
    "print ('Post Order list :', bst_t2.post_order(bst_t2.root))"
   ]
  },
  {
   "cell_type": "code",
   "execution_count": null,
   "metadata": {
    "id": "QT5KnMT01DRp",
    "outputId": "ef6adeb5-89ac-480a-ef66-b0e86f2c53c4"
   },
   "outputs": [
    {
     "data": {
      "text/plain": [
       "True"
      ]
     },
     "execution_count": 105,
     "metadata": {
      "tags": []
     },
     "output_type": "execute_result"
    }
   ],
   "source": [
    "check_sub_tree(bst_t1, bst_t2)"
   ]
  },
  {
   "cell_type": "code",
   "execution_count": null,
   "metadata": {
    "id": "LhR4Bzn51DRq",
    "outputId": "a02dd594-cd3c-42d0-f41f-cf5cb6e8bb61"
   },
   "outputs": [
    {
     "name": "stdout",
     "output_type": "stream",
     "text": [
      "5, [3, [2, [None,None],4, [None,None]],8, [7, [None,None],9, [None,None]]]\n",
      "8, [7, [1, [None,None],None],None]\n"
     ]
    }
   ],
   "source": [
    "# Negative test\n",
    "tree1 = BST(Node(5))\n",
    "tree1.insert(Node(3))\n",
    "tree1.insert(Node(2))\n",
    "tree1.insert(Node(4))\n",
    "tree1.insert(Node(8))\n",
    "tree1.insert(Node(7))\n",
    "tree1.insert(Node(9))\n",
    "print (tree1)\n",
    "\n",
    "tree2 = BST(Node(8))\n",
    "tree2.insert(Node(7))\n",
    "tree2.insert(Node(1))\n",
    "print (tree2)\n",
    "\n",
    "tree3 = BST(Node(8))\n",
    "tree3.insert(Node(7))\n",
    "tree3.insert(Node(9))"
   ]
  },
  {
   "cell_type": "code",
   "execution_count": null,
   "metadata": {
    "id": "c-ayxdOe1DRr",
    "outputId": "0b030e98-688a-4cd8-b56a-00254a6208ef"
   },
   "outputs": [
    {
     "data": {
      "text/plain": [
       "True"
      ]
     },
     "execution_count": 107,
     "metadata": {
      "tags": []
     },
     "output_type": "execute_result"
    }
   ],
   "source": [
    "check_sub_tree(tree1, tree2)"
   ]
  },
  {
   "cell_type": "markdown",
   "metadata": {
    "id": "VTEE8BCq1DRr"
   },
   "source": [
    "## 2 DP\n",
    "### 2.1 Robot in a Grid"
   ]
  },
  {
   "cell_type": "code",
   "execution_count": null,
   "metadata": {
    "id": "etWm4IXq1DRr"
   },
   "outputs": [],
   "source": [
    "grid = np.array([[  1,   2,   2,   2,   2,   2],\n",
    "                 [  1,   0, 100,   0, 100,   2],\n",
    "                 [  1, 100,   0, 100,   0,   2],\n",
    "                 [  1,   1,   1,   1, 100,   2],\n",
    "                 [100,   0, 100,   1,   1,   1],\n",
    "                 [  0,   0,   0,   0, 100,   1]])"
   ]
  },
  {
   "cell_type": "code",
   "execution_count": null,
   "metadata": {
    "id": "2IczP6_I1DRr"
   },
   "outputs": [],
   "source": [
    "# Minimum cost of traveling\n",
    "def walk(grid, n, m):\n",
    "\n",
    "    # Base condition\n",
    "    if n == 0 and m == 0:\n",
    "        return grid[0,0]\n",
    "    \n",
    "    if n < 0 or m < 0:\n",
    "        return 10   # penalise if it goes beyond \n",
    "    else:\n",
    "        #print(m,n, grid[n,m])\n",
    "        return (grid[n, m] + min(walk(grid, n-1, m), walk(grid, n, m-1) ) )"
   ]
  },
  {
   "cell_type": "code",
   "execution_count": null,
   "metadata": {
    "id": "cAz0oMk61DRs",
    "outputId": "fc0c1424-1579-43a8-ca1a-8a7e50b25890"
   },
   "outputs": [
    {
     "data": {
      "text/plain": [
       "11"
      ]
     },
     "execution_count": 22,
     "metadata": {
      "tags": []
     },
     "output_type": "execute_result"
    }
   ],
   "source": [
    "n, m = grid.shape\n",
    "n -=1\n",
    "m-=1\n",
    "walk(grid, n, m)"
   ]
  },
  {
   "cell_type": "code",
   "execution_count": null,
   "metadata": {
    "id": "bQf87Xvv1DRt"
   },
   "outputs": [],
   "source": [
    "# Minimum cost of traveling\n",
    "\n",
    "def min_cost(grid,n, m):\n",
    "    \n",
    "    # Create DP\n",
    "    dp =np.full((n+1, m+1),-1)\n",
    "    \n",
    "    # Base condition\n",
    "    dp[ 0, 0 ] = grid[0,0]\n",
    "    \n",
    "    for j in range (1, m + 1 ):\n",
    "        dp [0,j] = grid[0,j] + dp [0,j-1] \n",
    "\n",
    "    for i in range (1, n + 1 ):\n",
    "        dp [i,0] = grid[i,0] + dp [i-1, 0]\n",
    "    \n",
    "    for j in range(1, m+1):\n",
    "        for i in range(1, n+1):\n",
    "            dp[i,j] = grid[i,j] + min (dp [ i-1, j ], dp [ i, j-1 ] )\n",
    "    \n",
    "    return dp[n,m], dp"
   ]
  },
  {
   "cell_type": "code",
   "execution_count": null,
   "metadata": {
    "id": "1IyGhShQ1DRt",
    "outputId": "96c961a0-c8ff-4484-de7c-b0c0a9a6bf39"
   },
   "outputs": [
    {
     "name": "stdout",
     "output_type": "stream",
     "text": [
      "11\n"
     ]
    }
   ],
   "source": [
    "n, m = grid.shape\n",
    "res, dp = min_cost(grid, n-1, m-1)\n",
    "print (res)"
   ]
  },
  {
   "cell_type": "code",
   "execution_count": null,
   "metadata": {
    "id": "PnBXDv_51DRt",
    "outputId": "b74677ed-b869-40a5-dc24-0fca5b607937"
   },
   "outputs": [
    {
     "data": {
      "text/plain": [
       "array([[  1,   3,   5,   7,   9,  11],\n",
       "       [  2,   2, 102,   7, 107,  13],\n",
       "       [  3, 102, 102, 107, 107,  15],\n",
       "       [  4,   5,   6,   7, 107,  17],\n",
       "       [104,   5, 105,   8,   9,  10],\n",
       "       [104,   5,   5,   5, 105,  11]])"
      ]
     },
     "execution_count": 25,
     "metadata": {
      "tags": []
     },
     "output_type": "execute_result"
    }
   ],
   "source": [
    "dp"
   ]
  },
  {
   "cell_type": "markdown",
   "metadata": {
    "id": "9eN5GukW1DRu"
   },
   "source": [
    "### 2.2 Knapsack\n",
    "- wt = [ 1,5,6,8,9]\n",
    "- val = [10,8,6,4,2]\n",
    "- W = 11"
   ]
  },
  {
   "cell_type": "code",
   "execution_count": null,
   "metadata": {
    "id": "CoqfA7YU1DRu"
   },
   "outputs": [],
   "source": [
    "# Recursion based approach\n",
    "\n",
    "def solve_rec(wt, val, W, n):\n",
    " \n",
    "    # Base condition\n",
    "    if n == 0:\n",
    "        return 0\n",
    "    if W == 0:\n",
    "        return 0\n",
    "    \n",
    "    # Decision Tree\n",
    "    if W < wt[n-1]:\n",
    "        return solve_rec(wt, val, W, n-1) # do not keep, call with one less\n",
    "    \n",
    "    else:\n",
    "        \n",
    "        return max(val[n-1] + solve_rec(wt, val, W-wt[n-1], n-1), solve_rec(wt, val, W, n-1)) # keep or otherwise "
   ]
  },
  {
   "cell_type": "code",
   "execution_count": null,
   "metadata": {
    "id": "RDn49m-B1DRu",
    "outputId": "83776390-119a-42d1-e8b8-8fd7f51b0d0d"
   },
   "outputs": [
    {
     "data": {
      "text/plain": [
       "18"
      ]
     },
     "execution_count": 27,
     "metadata": {
      "tags": []
     },
     "output_type": "execute_result"
    }
   ],
   "source": [
    "wt = [ 1,5,6,8,9]\n",
    "val = [10,8,6,4,2]\n",
    "W = 11\n",
    "solve_rec(wt, val, W, len(wt))"
   ]
  },
  {
   "cell_type": "markdown",
   "metadata": {
    "id": "lQifdBf51DRu"
   },
   "source": [
    "### 2.3 Knapsack with Memoization"
   ]
  },
  {
   "cell_type": "code",
   "execution_count": null,
   "metadata": {
    "id": "IuReZzZU1DRu",
    "outputId": "1cccd216-e062-4251-9f89-2c62559e5600"
   },
   "outputs": [
    {
     "name": "stdout",
     "output_type": "stream",
     "text": [
      "18\n"
     ]
    }
   ],
   "source": [
    "def knap_sack_rec(W: int, wt: list, val: list, n: int):\n",
    "    #print (W, wt[n], val[n], n)\n",
    "   \n",
    "    \n",
    "    # base condition\n",
    "    if W == 0 or n == 0: # either we do not want to put\n",
    "                         # any thing in the sack or there are no items\n",
    "        return 0\n",
    "    \n",
    "    # Check if value exists\n",
    "    if dp[n][W] != -1:\n",
    "        return dp[n][W]\n",
    "\n",
    "    # Decision tree\n",
    "    if W >= wt[n-1]: # if remaining weight is more than the weight of item under consideration\n",
    "        dp[n][W] = max(val[n-1] + knap_sack_rec(W-wt[n-1], wt, val, n-1),  # include item\n",
    "                              knap_sack_rec(W, wt, val, n-1))         # no do not include item\n",
    "    else:\n",
    "        dp[n][W] = knap_sack_rec(W, wt, val, n-1) # can't include move over to next item\n",
    "    \n",
    "    return (dp[n][W])  \n",
    "\n",
    "if __name__ == '__main__':\n",
    "    wt = [ 1,5,6,8,9]\n",
    "    val = [10,8,6,4,2]\n",
    "    W = 11\n",
    "    n = len(val)\n",
    "    dp = [[-1 for _ in range(W +1)] for _ in range(n+1)]\n",
    "    print(knap_sack_rec(W, wt, val, n))"
   ]
  },
  {
   "cell_type": "markdown",
   "metadata": {
    "id": "6Llwr4Ol1DRv"
   },
   "source": [
    "### 2.3 Knapsack with bottomup"
   ]
  },
  {
   "cell_type": "code",
   "execution_count": null,
   "metadata": {
    "id": "PiHI3bi61DRv",
    "outputId": "93c600b2-ed00-4638-d3b9-99c1386357de"
   },
   "outputs": [
    {
     "name": "stdout",
     "output_type": "stream",
     "text": [
      "18\n"
     ]
    }
   ],
   "source": [
    "def knap_sack_dp(W, wt, val, n):\n",
    "    \n",
    "    # Preparing dp matrix\n",
    "    dp = [[0 for x in range(W + 1)] for x in range(n + 1)] \n",
    "    \n",
    "    # Base condition\n",
    "    dp[0][0] = 0\n",
    "\n",
    "    # Build matrix dp[][] in bottom up manner \n",
    "    for i in range(1, n + 1): # loop over all elements \n",
    "        for w in range(1, W + 1):\n",
    "            \n",
    "            if wt[i-1] <= w:  \n",
    "                dp[i][w] = max(val[i-1] + dp[i-1][w-wt[i-1]],  dp[i-1][w]) \n",
    "            \n",
    "            else: \n",
    "                dp[i][w] = dp[i-1][w] \n",
    "    return dp[n][W] \n",
    "  \n",
    "if __name__ == '__main__':\n",
    "    wt = [ 1,5,6,8,9]\n",
    "    val = [10,8,6,4,2]\n",
    "    W = 11\n",
    "    n = len(val) \n",
    "    print(knap_sack_dp(W, wt, val, n-1)) "
   ]
  },
  {
   "cell_type": "markdown",
   "metadata": {
    "id": "tL8GD93O1DRv"
   },
   "source": [
    "### 2.4 Triple Step\n",
    "A child is running up a staircase with n steps and can hop either 1 step, 2 steps, or 3 steps at a time. Implement a method to count how many possible ways the child can run up the\n",
    "stairs.\n",
    "- array : [1,2,3]\n",
    "- sum : 10"
   ]
  },
  {
   "cell_type": "code",
   "execution_count": null,
   "metadata": {
    "id": "DipzifZD1DRv"
   },
   "outputs": [],
   "source": [
    "# Define Problem\n",
    "arr = np.array([1, 2, 3])\n",
    "S = 10"
   ]
  },
  {
   "cell_type": "code",
   "execution_count": null,
   "metadata": {
    "id": "88wN1p8X1DRv",
    "outputId": "30407a92-4e6d-4141-87da-b00dee57c81c"
   },
   "outputs": [
    {
     "name": "stdout",
     "output_type": "stream",
     "text": [
      "[[ 1  0  0  0  0  0  0  0  0  0  0]\n",
      " [ 1  1  1  1  1  1  1  1  1  1  1]\n",
      " [ 1  1  2  2  3  3  4  4  5  5  6]\n",
      " [ 1  1  2  3  4  5  7  8 10 12 14]]\n"
     ]
    }
   ],
   "source": [
    "def climb_stairs(st, stair):\n",
    "    \n",
    "    n = len(st)\n",
    "    m = stair\n",
    "    \n",
    "    # Initialise dp\n",
    "    dp = np.full((n+1,m+1), -1)\n",
    "    \n",
    "    # base condition\n",
    "    dp [ 0, :] = 0 # stairs is there but no steps\n",
    "    dp [ :, 0] = 1 # there are no steps still one way to do it\n",
    "    \n",
    "    #dp [:, 1 ] = 1\n",
    "    #dp [:, 2 ] = 2\n",
    "    for j in range (1, m+1):\n",
    "        \n",
    "        for i in range (1, n+1):\n",
    "            \n",
    "            if st[i-1]<= j:\n",
    "                dp[i,j] = dp[i, j - st[i-1]] + dp[i-1, j]\n",
    "            \n",
    "            else:\n",
    "                dp[i,j] = dp[i-1, j]\n",
    "    \n",
    "    print (dp)\n",
    "    \n",
    "climb_stairs(arr, S)"
   ]
  },
  {
   "cell_type": "markdown",
   "metadata": {
    "id": "f1vd0exi1DRv"
   },
   "source": [
    "### Ex 2.2 Sudoku (Optional)\n",
    "Implement 9 x 9 sudoku"
   ]
  },
  {
   "cell_type": "code",
   "execution_count": null,
   "metadata": {
    "id": "5OVXzvb01DRw"
   },
   "outputs": [],
   "source": [
    ""
   ]
  },
  {
   "cell_type": "markdown",
   "metadata": {
    "id": "MpK6-fgE1DRw"
   },
   "source": [
    "### Ex 2.2 Queen Placement (Optional)\n",
    "Place N queens on N x N chess board so that none of the queen is under attack.\n",
    "**Hint**\n",
    "We will place one queen in one columns. So we need to track their placement on an array insted of a matrix\n"
   ]
  },
  {
   "cell_type": "code",
   "execution_count": null,
   "metadata": {
    "id": "sRxaJA_V1DRw"
   },
   "outputs": [],
   "source": [
    ""
   ]
  },
  {
   "cell_type": "markdown",
   "metadata": {
    "id": "DjSjH0dq1DRw"
   },
   "source": [
    "<img src = './images/eight_queens.png' style='width:600px;'>"
   ]
  },
  {
   "cell_type": "code",
   "execution_count": null,
   "metadata": {
    "id": "sj1xm9GC1DRw"
   },
   "outputs": [],
   "source": [
    ""
   ]
  }
 ],
 "metadata": {
  "colab": {
   "name": "200240128033_Krishna_Srujan.ipynb",
   "provenance": []
  },
  "kernelspec": {
   "display_name": "Python 3",
   "language": "python",
   "name": "python3"
  },
  "language_info": {
   "codemirror_mode": {
    "name": "ipython",
    "version": 3
   },
   "file_extension": ".py",
   "mimetype": "text/x-python",
   "name": "python",
   "nbconvert_exporter": "python",
   "pygments_lexer": "ipython3",
   "version": "3.7.6"
  }
 },
 "nbformat": 4,
 "nbformat_minor": 0
}

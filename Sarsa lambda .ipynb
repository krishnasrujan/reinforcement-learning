{
 "cells": [
  {
   "cell_type": "code",
   "execution_count": 7,
   "metadata": {},
   "outputs": [],
   "source": [
    "  \n",
    "import gym\n",
    "import numpy as np\n",
    "\n",
    "from numpy.random import random, choice\n",
    "import matplotlib.pyplot as plt\n",
    "\n",
    "\n",
    "\n",
    "env = gym.make(\"FrozenLake-v0\")\n",
    "\n",
    "\n",
    "# parameters for sarsa(lambda)\n",
    "episodes = 10000\n",
    "gamma = 1.0\n",
    "alpha = 0.1\n",
    "epsilon = 1.0\n",
    "epsilon_decay = 0.999 # decay per episode\n",
    "eligibility_decay = 0.3\n",
    "\n",
    "no_states = env.observation_space.n\n",
    "no_actions = env.action_space.n\n",
    "Q = np.zeros((no_states, no_actions))\n",
    "returns = []\n",
    "\n"
   ]
  },
  {
   "cell_type": "code",
   "execution_count": 8,
   "metadata": {},
   "outputs": [],
   "source": [
    "def epsilon_greedy(state, Q, epsilon):\n",
    "\n",
    "    values = Q[state,:]\n",
    "    max_value = max(values)\n",
    "    no_actions = len(values)\n",
    "\n",
    "    greedy_actions = [a for a in range(no_actions) if values[a] == max_value]\n",
    "    \n",
    "    explore = (random() < epsilon)\n",
    "  \n",
    "    if explore:\n",
    "        return choice([a for a in range(no_actions)])\n",
    "    else:\n",
    "        return choice([a for a in greedy_actions])\n"
   ]
  },
  {
   "cell_type": "code",
   "execution_count": 9,
   "metadata": {},
   "outputs": [
    {
     "data": {
      "image/png": "[encoded data removed]",
      "text/plain": [
       "<Figure size 432x288 with 1 Axes>"
      ]
     },
     "metadata": {
      "needs_background": "light"
     },
     "output_type": "display_data"
    }
   ],
   "source": [
    "for episode in range(episodes):\n",
    "\n",
    "    state = env.reset()\n",
    "    epsilon *= epsilon_decay # epsilon decays for each state\n",
    "\n",
    "    action = epsilon_greedy(state, Q, epsilon)\n",
    "\n",
    "    R = [] # No first return\n",
    "    E = np.zeros((no_states, no_actions))\n",
    "\n",
    "    while True:\n",
    "\n",
    "        E = eligibility_decay * gamma * E\n",
    "        E[state, action] += 1\n",
    "\n",
    "        new_state, reward, done, info = env.step(action)\n",
    "        new_action = epsilon_greedy(new_state, Q, epsilon)\n",
    "\n",
    "        R.append(reward)\n",
    "\n",
    "        delta = reward + gamma * Q[new_state, new_action] - Q[state, action]\n",
    "        Q = Q + alpha * delta * E \n",
    "\n",
    "        state, action = new_state, new_action\n",
    "\n",
    "        if done:\n",
    "            break\n",
    "\n",
    "    T = len(R)\n",
    "    G = 0\n",
    "\n",
    "    # t = T-2, T-3, ..., 0\n",
    "    t = T - 2\n",
    "\n",
    "    while t >= 0:\n",
    "        G = R[t+1] + gamma * G\n",
    "        t = t - 1\n",
    "\n",
    "    returns.append(G)\n",
    "\n",
    "\n",
    "window_size = 100\n",
    "averaged_returns = np.zeros(len(returns)-window_size+1)\n",
    "\n",
    "for i in range(len(averaged_returns)):\n",
    "    averaged_returns[i] = np.mean(returns[i:i+window_size])\n",
    "\n",
    "plt.plot(averaged_returns, linewidth=2)\n",
    "plt.xlabel(\"Episode\")\n",
    "plt.ylabel(\"Moving average of first returns (window_size={})\".format(window_size))\n",
    "plt.show()"
   ]
  },
  {
   "cell_type": "code",
   "execution_count": null,
   "metadata": {},
   "outputs": [],
   "source": []
  },
  {
   "cell_type": "code",
   "execution_count": null,
   "metadata": {},
   "outputs": [],
   "source": []
  }
 ],
 "metadata": {
  "kernelspec": {
   "display_name": "Python 3",
   "language": "python",
   "name": "python3"
  },
  "language_info": {
   "codemirror_mode": {
    "name": "ipython",
    "version": 3
   },
   "file_extension": ".py",
   "mimetype": "text/x-python",
   "name": "python",
   "nbconvert_exporter": "python",
   "pygments_lexer": "ipython3",
   "version": "3.7.6"
  }
 },
 "nbformat": 4,
 "nbformat_minor": 4
}

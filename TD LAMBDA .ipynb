{
 "cells": [
  {
   "cell_type": "code",
   "execution_count": 1,
   "metadata": {},
   "outputs": [],
   "source": [
    "# Import statements\n",
    "import os\n",
    "import random\n",
    "\n",
    "import gym\n",
    "import numpy as np\n",
    "import pandas as pd\n",
    "from matplotlib import pyplot\n",
    "import matplotlib.pyplot as plt\n",
    "\n",
    "from tqdm import tqdm, trange\n",
    "\n",
    "from collections import defaultdict\n",
    "\n",
    "import seaborn as sns\n",
    "\n",
    "from time import sleep\n",
    "from IPython.display import clear_output, display\n",
    "\n",
    "env = gym.make('FrozenLake8x8-v0')\n",
    "\n",
    "# parameters \n",
    "#episodes = 10000\n",
    "#gamma = 1.0\n",
    "#alpha = 0.1\n",
    "#epsilon = 1.0\n",
    "epsilon_decay = 0.999 # decay per episode\n",
    "eligibility_decay = 0.3\n",
    "\n",
    "n_states = env.observation_space.n\n",
    "n_actions = env.action_space.n"
   ]
  },
  {
   "cell_type": "code",
   "execution_count": 2,
   "metadata": {},
   "outputs": [],
   "source": [
    "# Parameters for Matplotlib\n",
    "params = {'legend.fontsize': 'x-large',\n",
    "          'figure.figsize': (9, 6),\n",
    "          'axes.labelsize': 'x-large',\n",
    "          'axes.titlesize':'x-large',\n",
    "          'xtick.labelsize':'x-large',\n",
    "          'ytick.labelsize':'x-large'\n",
    "         }\n",
    "\n",
    "plt.rcParams.update(params)\n",
    "\n",
    "# Global Parameters\n",
    "RANDOM_STATE = 24\n",
    "\n",
    "alpha = 0.4 #0.85\n",
    "gamma = 0.95\n",
    "epsilon = 0.8\n",
    "lambd = 0.9"
   ]
  },
  {
   "cell_type": "code",
   "execution_count": 3,
   "metadata": {},
   "outputs": [],
   "source": [
    "from IPython.display import clear_output, display\n",
    "from time import sleep\n",
    "\n",
    "def fn_display(opt_policy):\n",
    "    '''\n",
    "    Function to visualise how agent behaves under given policy\n",
    "    Args:\n",
    "        opt_policy: one hot encoded policy, numpy array of shape (64,4)\n",
    "    '''\n",
    "    points = 0\n",
    "    for i_episode in range(5): # run 10 episodes\n",
    "        observation = env.reset()\n",
    "        while True: # run until episode is done\n",
    "            clear_output(wait=True)\n",
    "            print ('Episode number:{} Score {}'.format(i_episode, points))\n",
    "            env.render()\n",
    "            sleep(0.1)\n",
    "            action = np.argmax(opt_policy[observation])\n",
    "            observation, reward, done, info = env.step(action)\n",
    "            points += reward\n",
    "            if done:\n",
    "                break\n",
    "                break"
   ]
  },
  {
   "cell_type": "code",
   "execution_count": 21,
   "metadata": {},
   "outputs": [],
   "source": [
    "def td(env,n_episodes):\n",
    "    \n",
    "    # First, we initialize the empty value table as a dictionary for storing the values of each state\n",
    "    V = defaultdict(float)\n",
    "    N = defaultdict(int)\n",
    "    \n",
    "    \n",
    "    for ep in range(n_episodes):\n",
    "        states = []\n",
    "        actions = []\n",
    "        rewards = []\n",
    "        state = env.reset()\n",
    "        E = np.zeros(n_states)\n",
    "        \n",
    "        while True:\n",
    "            \n",
    "            states.append(state)\n",
    "            \n",
    "            action  = np.random.choice([0,1,2,3]) # take random action\n",
    "            \n",
    "            E = lambd * gamma * E\n",
    "            E[state] += 1\n",
    "            \n",
    "            actions.append(action)\n",
    "            new_state, reward, done, info = env.step(action)\n",
    "            \n",
    "            delta = reward + gamma * V[new_state] - V[state]\n",
    "            V[state] += alpha * delta* E[state]\n",
    "            state = new_state\n",
    "            \n",
    "            if done:\n",
    "                break\n",
    "    return V    "
   ]
  },
  {
   "cell_type": "code",
   "execution_count": 22,
   "metadata": {},
   "outputs": [],
   "source": [
    "value = td(env, n_episodes=50000)"
   ]
  },
  {
   "cell_type": "code",
   "execution_count": 23,
   "metadata": {},
   "outputs": [
    {
     "data": {
      "text/plain": [
       "defaultdict(float,\n",
       "            {1: 0.0005503430520550328,\n",
       "             0: 0.0003027168706769069,\n",
       "             2: 0.00069377684974426,\n",
       "             10: 0.0008572823597161096,\n",
       "             18: 0.00011475913975976147,\n",
       "             3: 0.001645799206326792,\n",
       "             9: 0.000400515912996186,\n",
       "             17: 0.00023610751441083944,\n",
       "             16: 0.00016728190846769766,\n",
       "             8: 0.00033846578463605646,\n",
       "             24: 6.16021592113077e-05,\n",
       "             25: 0.00021863748577133536,\n",
       "             26: 0.00023978267024353425,\n",
       "             33: 1.8526623548467812e-05,\n",
       "             32: 5.34808912017733e-06,\n",
       "             27: 5.109999847115348e-05,\n",
       "             34: 4.56922840383446e-06,\n",
       "             42: 0.0,\n",
       "             41: 0.0,\n",
       "             11: 0.0014382894954174628,\n",
       "             19: 0.0,\n",
       "             12: 0.002792242932512667,\n",
       "             4: 0.0043887279080198,\n",
       "             13: 0.005875909783490083,\n",
       "             5: 0.010021906512825854,\n",
       "             20: 0.0008497962757720602,\n",
       "             21: 0.0024956474925662653,\n",
       "             29: 0.0,\n",
       "             22: 0.026079860163423674,\n",
       "             6: 0.015192041149224532,\n",
       "             14: 0.01873953627971179,\n",
       "             7: 0.03659598436932045,\n",
       "             15: 0.013068459471907353,\n",
       "             30: 0.023943810604671836,\n",
       "             40: 1.1228864770243122e-06,\n",
       "             48: 1.856748056392593e-07,\n",
       "             49: 0.0,\n",
       "             56: 1.6479642922651603e-08,\n",
       "             57: 4.5996792799928305e-08,\n",
       "             58: 5.8145737509093e-08,\n",
       "             35: 0.0,\n",
       "             28: 0.0007236190614311064,\n",
       "             36: 0.0013627236301775557,\n",
       "             44: 0.0015793597573616094,\n",
       "             45: 0.009440884150666747,\n",
       "             37: 0.003535274927529357,\n",
       "             46: 0.0,\n",
       "             50: 5.0630348403643124e-08,\n",
       "             23: 0.03746687664932294,\n",
       "             31: 0.04097968536519438,\n",
       "             39: 0.13300721799733642,\n",
       "             47: 0.1682121972424252,\n",
       "             38: 0.010213968285277658,\n",
       "             52: 0.0,\n",
       "             53: 0.03948133170539608,\n",
       "             61: 0.2290574395190753,\n",
       "             60: 0.0,\n",
       "             43: 9.367908487030379e-05,\n",
       "             59: 0.0,\n",
       "             55: 0.7602031692672502,\n",
       "             54: 0.0,\n",
       "             63: 0.0,\n",
       "             51: 4.713560433677774e-08,\n",
       "             62: 0.9038177991194591})"
      ]
     },
     "execution_count": 23,
     "metadata": {},
     "output_type": "execute_result"
    }
   ],
   "source": [
    "value"
   ]
  },
  {
   "cell_type": "code",
   "execution_count": 24,
   "metadata": {},
   "outputs": [],
   "source": [
    "keys = sorted(value.keys())\n",
    "values = [value[i] for i in keys]"
   ]
  },
  {
   "cell_type": "code",
   "execution_count": 25,
   "metadata": {},
   "outputs": [],
   "source": [
    "values = np.array(values).reshape(8,8)"
   ]
  },
  {
   "cell_type": "code",
   "execution_count": 26,
   "metadata": {},
   "outputs": [
    {
     "data": {
      "text/plain": [
       "array([[3.02716871e-04, 5.50343052e-04, 6.93776850e-04, 1.64579921e-03,\n",
       "        4.38872791e-03, 1.00219065e-02, 1.51920411e-02, 3.65959844e-02],\n",
       "       [3.38465785e-04, 4.00515913e-04, 8.57282360e-04, 1.43828950e-03,\n",
       "        2.79224293e-03, 5.87590978e-03, 1.87395363e-02, 1.30684595e-02],\n",
       "       [1.67281908e-04, 2.36107514e-04, 1.14759140e-04, 0.00000000e+00,\n",
       "        8.49796276e-04, 2.49564749e-03, 2.60798602e-02, 3.74668766e-02],\n",
       "       [6.16021592e-05, 2.18637486e-04, 2.39782670e-04, 5.10999985e-05,\n",
       "        7.23619061e-04, 0.00000000e+00, 2.39438106e-02, 4.09796854e-02],\n",
       "       [5.34808912e-06, 1.85266235e-05, 4.56922840e-06, 0.00000000e+00,\n",
       "        1.36272363e-03, 3.53527493e-03, 1.02139683e-02, 1.33007218e-01],\n",
       "       [1.12288648e-06, 0.00000000e+00, 0.00000000e+00, 9.36790849e-05,\n",
       "        1.57935976e-03, 9.44088415e-03, 0.00000000e+00, 1.68212197e-01],\n",
       "       [1.85674806e-07, 0.00000000e+00, 5.06303484e-08, 4.71356043e-08,\n",
       "        0.00000000e+00, 3.94813317e-02, 0.00000000e+00, 7.60203169e-01],\n",
       "       [1.64796429e-08, 4.59967928e-08, 5.81457375e-08, 0.00000000e+00,\n",
       "        0.00000000e+00, 2.29057440e-01, 9.03817799e-01, 0.00000000e+00]])"
      ]
     },
     "execution_count": 26,
     "metadata": {},
     "output_type": "execute_result"
    }
   ],
   "source": [
    "values"
   ]
  },
  {
   "cell_type": "code",
   "execution_count": 27,
   "metadata": {},
   "outputs": [
    {
     "data": {
      "text/plain": [
       "<matplotlib.axes._subplots.AxesSubplot at 0x11243082b08>"
      ]
     },
     "execution_count": 27,
     "metadata": {},
     "output_type": "execute_result"
    },
    {
     "data": {
      "image/png": "[encoded data removed]",
      "text/plain": [
       "<Figure size 648x432 with 2 Axes>"
      ]
     },
     "metadata": {
      "needs_background": "light"
     },
     "output_type": "display_data"
    }
   ],
   "source": [
    "sns.heatmap(values,annot=values,cmap='rainbow')"
   ]
  },
  {
   "cell_type": "code",
   "execution_count": null,
   "metadata": {},
   "outputs": [],
   "source": []
  }
 ],
 "metadata": {
  "kernelspec": {
   "display_name": "Python 3",
   "language": "python",
   "name": "python3"
  },
  "language_info": {
   "codemirror_mode": {
    "name": "ipython",
    "version": 3
   },
   "file_extension": ".py",
   "mimetype": "text/x-python",
   "name": "python",
   "nbconvert_exporter": "python",
   "pygments_lexer": "ipython3",
   "version": "3.7.6"
  }
 },
 "nbformat": 4,
 "nbformat_minor": 4
}

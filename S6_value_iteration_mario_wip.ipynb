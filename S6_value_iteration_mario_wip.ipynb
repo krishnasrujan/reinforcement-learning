{
 "cells": [
  {
   "cell_type": "code",
   "execution_count": 1,
   "metadata": {},
   "outputs": [],
   "source": [
    "#!/usr/bin/env python3\n",
    "# -*- coding: utf-8 -*-"
   ]
  },
  {
   "cell_type": "markdown",
   "metadata": {},
   "source": [
    "# Value Iteration Mario\n",
    "<p style=\"color:blue;\">\n",
    "By Pramod Sharma : pramod.sharma@prasami.com\n",
    "<p>"
   ]
  },
  {
   "cell_type": "markdown",
   "metadata": {},
   "source": [
    "## Acknowledgements\n",
    "### Standford University<br>\n",
    "Inspired from: https://github.com/lazyprogrammer/machine_learning_examples/tree/master/rl"
   ]
  },
  {
   "cell_type": "code",
   "execution_count": 2,
   "metadata": {},
   "outputs": [],
   "source": [
    "# Import statements\n",
    "\n",
    "import numpy as np\n",
    "import os\n",
    "import matplotlib.pyplot as plt\n",
    "\n",
    "from utils.gridWorldGame import standard_grid, negative_grid,print_values, print_policy"
   ]
  },
  {
   "cell_type": "markdown",
   "metadata": {},
   "source": [
    "<img src = './images/mario_game.png'>"
   ]
  },
  {
   "cell_type": "code",
   "execution_count": 3,
   "metadata": {},
   "outputs": [],
   "source": [
    "# Some basic parameters\n",
    "inpDir = '../input'\n",
    "outDir = '../output'\n",
    "\n",
    "RANDOM_STATE = 24\n",
    "STEPS = 200\n",
    "\n",
    "# parameters for Matplotlib\n",
    "params = {'legend.fontsize': 'x-large',\n",
    "          'figure.figsize': (9, 6),\n",
    "          'axes.labelsize': 'x-large',\n",
    "          'axes.titlesize':'x-large',\n",
    "          'xtick.labelsize':'x-large',\n",
    "          'ytick.labelsize':'x-large'\n",
    "         }\n",
    "\n",
    "plt.rcParams.update(params)\n",
    "\n",
    "\n",
    "SMALL_ENOUGH = 1e-3\n",
    "GAMMA = 0.95\n",
    "ALL_POSSIBLE_ACTIONS = ('U', 'D', 'L', 'R')"
   ]
  },
  {
   "cell_type": "code",
   "execution_count": 4,
   "metadata": {},
   "outputs": [],
   "source": [
    "# Helper function to plot the grid\n",
    "\n",
    "def show_grid(val):\n",
    "    plot_grid = np.zeros(12, dtype = np.float).reshape(3,4)\n",
    "    for key in val:\n",
    "        plot_grid[key[0],key[1]] = val[key]\n",
    "    plot_grid[0,3] = 1\n",
    "    plot_grid[1,3] = -1\n",
    "    plot_grid[1,1] = 0\n",
    "    print ( plot_grid)\n",
    "    plt.matshow(plot_grid, cmap = 'RdBu');"
   ]
  },
  {
   "cell_type": "code",
   "execution_count": 5,
   "metadata": {},
   "outputs": [
    {
     "name": "stdout",
     "output_type": "stream",
     "text": [
      "Rewards:\n",
      "---------------------------\n",
      "-0.10|-0.10|-0.10| 1.00|\n",
      "---------------------------\n",
      "-0.10| 0.00|-0.10|-1.00|\n",
      "---------------------------\n",
      "-0.10|-0.10|-0.10|-0.10|\n"
     ]
    }
   ],
   "source": [
    "# Lets create a Grid for our Mario\n",
    "grid = negative_grid()\n",
    "print(\"Rewards:\")\n",
    "print_values(grid.rewards, grid)"
   ]
  },
  {
   "cell_type": "markdown",
   "metadata": {},
   "source": [
    "## Actions"
   ]
  },
  {
   "cell_type": "code",
   "execution_count": 6,
   "metadata": {},
   "outputs": [
    {
     "name": "stdout",
     "output_type": "stream",
     "text": [
      "Action Keys: dict_keys([(0, 0), (0, 1), (0, 2), (1, 0), (1, 2), (2, 0), (2, 1), (2, 2), (2, 3)])\n"
     ]
    }
   ],
   "source": [
    "# Note: Grid Action keys are defined along with the grid\n",
    "# What are the keys?\n",
    "print (\"Action Keys:\", grid.actions.keys())"
   ]
  },
  {
   "cell_type": "markdown",
   "metadata": {},
   "source": [
    "**Note**: No action defined for terminal state\n",
    "## Define Policies for these actions"
   ]
  },
  {
   "cell_type": "code",
   "execution_count": 7,
   "metadata": {},
   "outputs": [
    {
     "name": "stdout",
     "output_type": "stream",
     "text": [
      "Initial policy:\n",
      "---------------------------\n",
      "  R  |  D  |  L  |     |\n",
      "---------------------------\n",
      "  D  |     |  D  |     |\n",
      "---------------------------\n",
      "  D  |  L  |  D  |  R  |\n"
     ]
    }
   ],
   "source": [
    "# Lets Define a Dict for policy\n",
    "policy = {}\n",
    "for s in grid.actions.keys():\n",
    "    policy[s] = np.random.choice(ALL_POSSIBLE_ACTIONS)\n",
    "    \n",
    "# initial policy\n",
    "print(\"Initial policy:\")\n",
    "print_policy(policy, grid)"
   ]
  },
  {
   "cell_type": "markdown",
   "metadata": {},
   "source": [
    "## States"
   ]
  },
  {
   "cell_type": "code",
   "execution_count": 8,
   "metadata": {},
   "outputs": [
    {
     "name": "stdout",
     "output_type": "stream",
     "text": [
      "States: {(0, 0), (1, 3), (2, 1), (2, 3), (1, 0), (0, 3), (0, 1), (1, 2), (2, 0), (2, 2), (0, 2)}\n"
     ]
    }
   ],
   "source": [
    "states = grid.all_states()\n",
    "print ('States:', states)"
   ]
  },
  {
   "cell_type": "code",
   "execution_count": 9,
   "metadata": {},
   "outputs": [
    {
     "data": {
      "text/plain": [
       "{(0, 0): 'R',\n",
       " (0, 1): 'D',\n",
       " (0, 2): 'L',\n",
       " (1, 0): 'D',\n",
       " (1, 2): 'D',\n",
       " (2, 0): 'D',\n",
       " (2, 1): 'L',\n",
       " (2, 2): 'D',\n",
       " (2, 3): 'R'}"
      ]
     },
     "execution_count": 9,
     "metadata": {},
     "output_type": "execute_result"
    }
   ],
   "source": [
    "policy"
   ]
  },
  {
   "cell_type": "code",
   "execution_count": 9,
   "metadata": {},
   "outputs": [
    {
     "name": "stdout",
     "output_type": "stream",
     "text": [
      "---------------------------\n",
      " 0.74| 0.80| 0.78| 0.00|\n",
      "---------------------------\n",
      " 0.71| 0.00| 0.77| 0.00|\n",
      "---------------------------\n",
      " 0.55| 0.85| 0.00| 0.95|\n",
      "[[ 0.73534366  0.80465133  0.77876521  1.        ]\n",
      " [ 0.70571195  0.          0.76608813 -1.        ]\n",
      " [ 0.55298907  0.84936807  0.00278165  0.95451741]]\n"
     ]
    },
    {
     "data": {
      "image/png": "[encoded data removed]",
      "text/plain": [
       "<Figure size 576x432 with 1 Axes>"
      ]
     },
     "metadata": {
      "needs_background": "light"
     },
     "output_type": "display_data"
    }
   ],
   "source": [
    "# Initialize V(s) - value function\n",
    "# Again a dict with keys as states\n",
    "# Random initialization of all Values where action is needed\n",
    "# zero for terminal states\n",
    "V = {}\n",
    "\n",
    "for s in states:\n",
    "    \n",
    "    if s in grid.actions:\n",
    "        V[s] = np.random.random()\n",
    "    else:\n",
    "        V[s] = 0\n",
    "\n",
    "# Initial value for all states in grid\n",
    "# print(V)\n",
    "print_values(V, grid)\n",
    "show_grid(V)"
   ]
  },
  {
   "cell_type": "code",
   "execution_count": 10,
   "metadata": {},
   "outputs": [
    {
     "name": "stdout",
     "output_type": "stream",
     "text": [
      "values 1: \n",
      "---------------------------\n",
      " 0.74| 0.80| 0.78| 0.00|\n",
      "---------------------------\n",
      " 0.71| 0.00| 0.77| 0.00|\n",
      "---------------------------\n",
      " 0.55| 0.85| 0.00| 0.95|\n",
      "policy 1: \n",
      "---------------------------\n",
      "  L  |  U  |  R  |     |\n",
      "---------------------------\n",
      "  L  |     |  R  |     |\n",
      "---------------------------\n",
      "  R  |  L  |  L  |  U  |\n",
      "values 2: \n",
      "---------------------------\n",
      " 0.60| 0.66| 1.00| 0.00|\n",
      "---------------------------\n",
      " 0.60| 0.00| 0.64| 0.00|\n",
      "---------------------------\n",
      " 0.57| 0.71| 0.81| 0.81|\n",
      "policy 2: \n",
      "---------------------------\n",
      "  L  |  U  |  R  |     |\n",
      "---------------------------\n",
      "  L  |     |  R  |     |\n",
      "---------------------------\n",
      "  R  |  L  |  L  |  U  |\n",
      "values 3: \n",
      "---------------------------\n",
      " 0.71| 0.85| 1.00| 0.00|\n",
      "---------------------------\n",
      " 0.47| 0.00| 0.85| 0.00|\n",
      "---------------------------\n",
      " 0.53| 0.67| 0.71| 0.67|\n",
      "policy 3: \n",
      "---------------------------\n",
      "  L  |  U  |  R  |     |\n",
      "---------------------------\n",
      "  L  |     |  R  |     |\n",
      "---------------------------\n",
      "  R  |  L  |  L  |  U  |\n",
      "values 4: \n",
      "---------------------------\n",
      " 0.71| 0.85| 1.00| 0.00|\n",
      "---------------------------\n",
      " 0.57| 0.00| 0.85| 0.00|\n",
      "---------------------------\n",
      " 0.44| 0.57| 0.71| 0.57|\n",
      "policy 4: \n",
      "---------------------------\n",
      "  L  |  U  |  R  |     |\n",
      "---------------------------\n",
      "  L  |     |  R  |     |\n",
      "---------------------------\n",
      "  R  |  L  |  L  |  U  |\n",
      "values:\n",
      "---------------------------\n",
      " 0.71| 0.85| 1.00| 0.00|\n",
      "---------------------------\n",
      " 0.57| 0.00| 0.85| 0.00|\n",
      "---------------------------\n",
      " 0.44| 0.57| 0.71| 0.57|\n",
      "policy:\n",
      "---------------------------\n",
      "  R  |  R  |  R  |     |\n",
      "---------------------------\n",
      "  U  |     |  U  |     |\n",
      "---------------------------\n",
      "  U  |  R  |  U  |  L  |\n"
     ]
    }
   ],
   "source": [
    "# All changes from the policy iterations will be imployed here\n",
    "# repeat until convergence\n",
    "# V[s] = max[a]{ sum[s',r] { p(s',r|s,a)[r + gamma*V[s']] } }\n",
    "\n",
    "iter = 0\n",
    "\n",
    "while True:\n",
    "    iter += 1\n",
    "    print(\"values %d: \" % iter)\n",
    "    print_values(V, grid)\n",
    "    print(\"policy %d: \" % iter)\n",
    "    print_policy(policy, grid)\n",
    "      \n",
    "    biggest_change = 0\n",
    "    for s in states:\n",
    "        old_v = V[s]\n",
    "\n",
    "        # V(s) only has value if it's not a terminal state\n",
    "        if s in policy:\n",
    "            new_v = -np.inf\n",
    "            for a in ALL_POSSIBLE_ACTIONS:\n",
    "                grid.set_state(s) # Pick the point of this state \n",
    "                r = grid.move(a) # Get the Reward\n",
    "                v = r + GAMMA * V[grid.current_state()] # get Value for current location and\n",
    "                if v > new_v:\n",
    "                    new_v = v\n",
    "            V[s] = new_v\n",
    "            \n",
    "            biggest_change = max(biggest_change, np.abs(old_v - V[s]))\n",
    "\n",
    "    if biggest_change < SMALL_ENOUGH:\n",
    "        break\n",
    "        \n",
    "# find a policy that leads to optimal value function\n",
    "for s in policy.keys():\n",
    "    best_a = None\n",
    "    best_value = -np.inf\n",
    "    # loop through all possible actions to find the best current action\n",
    "    for a in ALL_POSSIBLE_ACTIONS:\n",
    "        grid.set_state(s)\n",
    "        r = grid.move(a)\n",
    "        v = r + GAMMA * V[grid.current_state()]\n",
    "        if v > best_value:\n",
    "            best_value = v\n",
    "            best_a = a\n",
    "    policy[s] = best_a\n",
    "\n",
    "# our goal here is to verify that we get the same answer as with policy iteration\n",
    "print(\"values:\")\n",
    "print_values(V, grid)\n",
    "print(\"policy:\")\n",
    "print_policy(policy, grid)"
   ]
  },
  {
   "cell_type": "code",
   "execution_count": 11,
   "metadata": {},
   "outputs": [
    {
     "name": "stdout",
     "output_type": "stream",
     "text": [
      "[[ 0.7075      0.85        1.          1.        ]\n",
      " [ 0.572125    0.          0.85       -1.        ]\n",
      " [ 0.44351875  0.572125    0.7075      0.572125  ]]\n"
     ]
    },
    {
     "data": {
      "image/png": "[encoded data removed]",
      "text/plain": [
       "<Figure size 576x432 with 1 Axes>"
      ]
     },
     "metadata": {
      "needs_background": "light"
     },
     "output_type": "display_data"
    }
   ],
   "source": [
    "show_grid(V)"
   ]
  },
  {
   "cell_type": "code",
   "execution_count": null,
   "metadata": {},
   "outputs": [],
   "source": []
  }
 ],
 "metadata": {
  "kernelspec": {
   "display_name": "Python 3",
   "language": "python",
   "name": "python3"
  },
  "language_info": {
   "codemirror_mode": {
    "name": "ipython",
    "version": 3
   },
   "file_extension": ".py",
   "mimetype": "text/x-python",
   "name": "python",
   "nbconvert_exporter": "python",
   "pygments_lexer": "ipython3",
   "version": "3.7.6"
  }
 },
 "nbformat": 4,
 "nbformat_minor": 4
}

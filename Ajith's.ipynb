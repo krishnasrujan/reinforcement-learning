{
 "cells": [
  {
   "cell_type": "markdown",
   "metadata": {
    "id": "k-SEBNXnzXuE"
   },
   "source": [
    "# Lab Assignments 2 and 3 with Frozen Lake Grid Environment\n",
    "\n",
    "<p style=\"color:blue;\">\n",
    "By Pramod Sharma : pramod.sharma@prasami.com<br>\n",
    "<p>\n",
    "    \n",
    "<p style=\"color:red;\">\n",
    "Do not <strong>Remove</strong> any cell!!!<br>\n",
    "<p>"
   ]
  },
  {
   "cell_type": "markdown",
   "metadata": {
    "id": "HBmgRAI4zXuS"
   },
   "source": [
    "**Submitted by** <br />\n",
    "**Name:** Kanumuri Sri Naga Sai Ajith (You can call me Ajith 😊) <br />\n",
    "**PRN:** 200240128012"
   ]
  },
  {
   "cell_type": "code",
   "execution_count": null,
   "metadata": {
    "id": "ZCzdK34VzXuU"
   },
   "outputs": [],
   "source": [
    "# Import statements\n",
    "import os\n",
    "import random\n",
    "\n",
    "import gym\n",
    "import numpy as np\n",
    "import pandas as pd\n",
    "from matplotlib import pyplot\n",
    "import matplotlib.pyplot as plt\n",
    "\n",
    "from tqdm import tqdm, trange\n",
    "\n",
    "from collections import defaultdict\n",
    "\n",
    "import seaborn as sns\n",
    "\n",
    "from time import sleep\n",
    "from IPython.display import clear_output, display\n",
    "\n",
    "%matplotlib inline\n",
    "plt.style.use('ggplot')"
   ]
  },
  {
   "cell_type": "code",
   "execution_count": null,
   "metadata": {
    "id": "3TFz-rj8zXuW"
   },
   "outputs": [],
   "source": [
    "# Parameters for Matplotlib\n",
    "params = {'legend.fontsize': 'x-large',\n",
    "          'figure.figsize': (9, 6),\n",
    "          'axes.labelsize': 'x-large',\n",
    "          'axes.titlesize':'x-large',\n",
    "          'xtick.labelsize':'x-large',\n",
    "          'ytick.labelsize':'x-large'\n",
    "         }\n",
    "\n",
    "plt.rcParams.update(params)\n",
    "\n",
    "# Global Parameters\n",
    "RANDOM_STATE = 24\n",
    "\n",
    "alpha = 0.01 #0.85\n",
    "gamma = 0.90\n",
    "epsilon = 0.8"
   ]
  },
  {
   "cell_type": "markdown",
   "metadata": {
    "id": "W7L_NSnbzXuW"
   },
   "source": [
    " ## Load Frozen Lake Environment\n",
    "\n",
    "Fronze Lake is a simple game where Actor is on a frozen lake and need to reach a **Goal** on the frozen lake. Some parts of lake are frozen solid and some parts have holes. If Actor walk into a hole, game over!\n",
    "\n",
    "Actions: $A$ ={0,1,2,3}\n",
    "\n",
    "    LEFT: 0\n",
    "    DOWN = 1\n",
    "    RIGHT = 2\n",
    "    UP = 3\n",
    "\n",
    "Whole lake is a 8 x 8 grid world. \n",
    "States $S$ are from 0 to 63\n",
    "\n",
    "SFFFFFFF       (S: starting point, safe)<br>\n",
    "FFFFFFFF       (F: frozen surface, safe)<br>\n",
    "FFFHFFFF       (H: hole, fall to your doom)<br>\n",
    "FFFFFHFF       (G: goal, where the frisbee is located)<br>\n",
    "FFFHFFFF<br>\n",
    "FHHFFFHF<br>\n",
    "FHFFHFHF<br>\n",
    "FFFHFFFG <br>\n",
    "\n",
    "<img src='./images/Frozenlake8x8.png' style='width:400px;'>"
   ]
  },
  {
   "cell_type": "code",
   "execution_count": null,
   "metadata": {
    "id": "Gc8lcqXJzXuX",
    "outputId": "d265cfba-0ad1-4a2c-9b35-7bebb2731777"
   },
   "outputs": [
    {
     "name": "stdout",
     "output_type": "stream",
     "text": [
      "\n",
      "\u001b[41mS\u001b[0mFFFFFFF\n",
      "FFFFFFFF\n",
      "FFFHFFFF\n",
      "FFFFFHFF\n",
      "FFFHFFFF\n",
      "FHHFFFHF\n",
      "FHFFHFHF\n",
      "FFFHFFFG\n"
     ]
    }
   ],
   "source": [
    "# Make the environment based on non-deterministic policy. \n",
    "# Standard configuration is loaded\n",
    "env = gym.make('FrozenLake8x8-v0')\n",
    "env.seed(RANDOM_STATE)\n",
    "env.reset()\n",
    "env.render()"
   ]
  },
  {
   "cell_type": "markdown",
   "metadata": {
    "id": "AAcLKXiTzXua"
   },
   "source": [
    "## Helper Function\n",
    "### Feel Free to add modify as per your design"
   ]
  },
  {
   "cell_type": "markdown",
   "metadata": {
    "id": "WTsdFDGLzXub"
   },
   "source": [
    "<h3>Note</h3>\n",
    "I modified fn_display a bit in order to render final frame as well. - Ajith"
   ]
  },
  {
   "cell_type": "code",
   "execution_count": null,
   "metadata": {
    "id": "5P-QC3QEzXub",
    "outputId": "b0f3e49d-9f7a-4d49-9a9a-dbd921d3a0ac"
   },
   "outputs": [
    {
     "name": "stdout",
     "output_type": "stream",
     "text": [
      "{0: '←', 1: '↓', 2: '→', 3: '↑'}\n"
     ]
    }
   ],
   "source": [
    "def fn_plot_heatmap(values, opt_policy):\n",
    "    '''\n",
    "    Plot value function in on the grid\n",
    "    Args:\n",
    "        values : np array of shape (8,8)\n",
    "        opt_policy: one hot encoded policy, numpy array of shape (64,4) \n",
    "    return : None\n",
    "    '''\n",
    "    fig, ax = plt.subplots()\n",
    "    act = [action_mappings[action] for action in np.argmax(opt_policy, axis=1)]\n",
    "    labels = np.asarray([\"{0}\\n{1:.3f}\".format(a, v)\n",
    "                          for a, v in zip(act,values.ravel())]).reshape(8,8)\n",
    "\n",
    "    sns.heatmap(values, annot=labels, fmt=\"\", cmap='RdYlGn', ax=ax)\n",
    "    plt.show()\n",
    "\n",
    "\n",
    "def fn_display(opt_policy):\n",
    "    '''\n",
    "    Function to visualise how agent behaves under given policy\n",
    "    Args:\n",
    "        opt_policy: one hot encoded policy, numpy array of shape (64,4)\n",
    "    '''\n",
    "    points = 0\n",
    "    for i_episode in range(10): # run 10 episodes\n",
    "        observation = env.reset()\n",
    "        while True: # run until episode is done\n",
    "            clear_output(wait=True)\n",
    "            print ('Episode number:{} Score {}'.format(i_episode, points))\n",
    "            env.render()\n",
    "            sleep(0.1)\n",
    "            action = np.argmax(policy[observation])\n",
    "            observation, reward, done, info = env.step(action)\n",
    "            points += reward\n",
    "            if done:\n",
    "                clear_output(wait=True)\n",
    "                print('All episodes complete. Score {}'.format(points))\n",
    "                env.render()\n",
    "                break\n",
    "\n",
    "# Action mappings - Map actions to numbers\n",
    "'''\n",
    "    Needed in fn_plot_heatmap\n",
    "    Note: these mappings are only for ornamental purpose \n",
    "    and do not contribute to programming logic \n",
    "'''\n",
    "action_mappings = {\n",
    "    0: '\\u2190' , # Left\n",
    "    1: '\\u2193', # Down\n",
    "    2: '\\u2192', # Right\n",
    "    3: '\\u2191', # Up\n",
    "}\n",
    "\n",
    "print (action_mappings)"
   ]
  },
  {
   "cell_type": "code",
   "execution_count": null,
   "metadata": {
    "id": "7TiI4-OUzXue",
    "outputId": "b2604e83-45d4-4f7e-c195-7dc3179ffc75"
   },
   "outputs": [
    {
     "name": "stdout",
     "output_type": "stream",
     "text": [
      "  (Right)\n",
      "SFFFFFFF\n",
      "\u001b[41mF\u001b[0mFFFFFFF\n",
      "FFFHFFFF\n",
      "FFFFFHFF\n",
      "FFFHFFFF\n",
      "FHHFFFHF\n",
      "FHFFHFHF\n",
      "FFFHFFFG\n",
      "8 0.0 False {'prob': 0.3333333333333333}\n"
     ]
    }
   ],
   "source": [
    "'''\n",
    "    Dry Run of the environment\n",
    "'''\n",
    "# Go right once (action = 2), we should go to the right but we did not!\n",
    "env.reset()\n",
    "action = 2\n",
    "observation, reward, done, prob = env.step(action)\n",
    "env.render()\n",
    "print (observation, reward, done, prob)"
   ]
  },
  {
   "cell_type": "code",
   "execution_count": null,
   "metadata": {
    "id": "V0ujJolYzXuf"
   },
   "outputs": [],
   "source": []
  },
  {
   "cell_type": "markdown",
   "metadata": {
    "id": "CIq6HzGEzXug"
   },
   "source": [
    "## Assignment 2\n",
    "Code TD Prediction as per following algorithm\n",
    "\n",
    "\n",
    "<img src='./images/TD_prediction_algorithm.JPG' style='width:600px;'>\n",
    "\n",
    "Create a policy $\\pi$ either random or with any other logic. Provide clear explanation of your policy"
   ]
  },
  {
   "cell_type": "code",
   "execution_count": null,
   "metadata": {
    "id": "NGIakveIzXug"
   },
   "outputs": [],
   "source": [
    "def fn_random_policy(state):\n",
    "    '''\n",
    "    Policy to be evaluated. Random policy has been implemented.\n",
    "    Args:\n",
    "        state: current state of the environment.\n",
    "    Returns: an action to be done by the agent.\n",
    "    '''\n",
    "    return random.randint(0, 3)\n",
    "\n",
    "def td_prediction(policy_fn, env, n_episodes, alpha=alpha, gamma=gamma):\n",
    "    '''\n",
    "    Performs prediction task for the given policy in the given environment.\n",
    "    In other words, this function evaluates the provided policy function \n",
    "    in the given environment.\n",
    "    Args:\n",
    "        policy_fn: a function of policy to be evaluated\n",
    "        env: an environment in which policy will be evaluated\n",
    "        n_episodes: number of episodes to be run for evaluation\n",
    "        alpha (optional): learning rate or step-size of agent\n",
    "        gamma (optional): discount rate of agent\n",
    "    Returns: a numpy array of state values\n",
    "    '''\n",
    "    values = np.zeros((64,))\n",
    "    for episode in tqdm(range(n_episodes)):\n",
    "        state = env.reset()\n",
    "        done = False\n",
    "        while not done:\n",
    "            action = policy_fn(state)\n",
    "            next_state, reward, done, info = env.step(action)\n",
    "            values[state] = values[state] + alpha * (reward + gamma * values[next_state] - values[state])\n",
    "            state = next_state\n",
    "    return values.reshape(8, 8)\n",
    "\n",
    "def fn_plot_heatmap_of_values(values):\n",
    "    '''\n",
    "    Plot obtained state values in a grid.\n",
    "    Args:\n",
    "        values: a numpy array of state values\n",
    "    Returns: None\n",
    "    '''\n",
    "    fig, ax = plt.subplots()\n",
    "    labels = np.asarray([\"{0:.5f}\".format(v) for v in values.ravel()]).reshape(8, 8)\n",
    "    sns.heatmap(values, annot=labels, fmt=\"\", cmap='RdYlGn')\n",
    "    plt.show()"
   ]
  },
  {
   "cell_type": "code",
   "execution_count": null,
   "metadata": {
    "id": "4Zz6cymfzXuh",
    "outputId": "e3dd1832-9357-40ef-b87e-591933360f48"
   },
   "outputs": [
    {
     "name": "stderr",
     "output_type": "stream",
     "text": [
      "100%|█████████████████████████████████████████████████████████████████████████| 100000/100000 [01:56<00:00, 859.44it/s]\n"
     ]
    },
    {
     "name": "stdout",
     "output_type": "stream",
     "text": [
      "[[2.38746187e-05 3.92712582e-05 8.60614779e-05 1.69303202e-04\n",
      "  3.53718333e-04 7.47954371e-04 1.17925848e-03 1.50922734e-03]\n",
      " [2.00007999e-05 2.93440358e-05 5.73424751e-05 1.40175660e-04\n",
      "  3.91037032e-04 8.67126852e-04 1.85391402e-03 2.61684465e-03]\n",
      " [1.39018364e-05 1.83193677e-05 1.92764089e-05 0.00000000e+00\n",
      "  4.21619220e-04 1.19829511e-03 3.27927780e-03 5.97315571e-03]\n",
      " [9.26533822e-06 1.31196198e-05 2.17501159e-05 5.87353815e-05\n",
      "  2.42910898e-04 0.00000000e+00 7.03242409e-03 1.54744884e-02]\n",
      " [5.04905136e-06 6.39239326e-06 6.88325057e-06 0.00000000e+00\n",
      "  6.65878633e-04 2.51842256e-03 1.19314144e-02 4.32167722e-02]\n",
      " [1.71378476e-06 0.00000000e+00 0.00000000e+00 6.47738671e-05\n",
      "  3.66691086e-04 9.05404174e-04 0.00000000e+00 1.43888671e-01]\n",
      " [5.36855551e-07 0.00000000e+00 3.90926024e-07 4.09300713e-06\n",
      "  0.00000000e+00 1.42974950e-03 0.00000000e+00 4.05188447e-01]\n",
      " [2.41845951e-07 8.92895821e-08 9.42343688e-08 0.00000000e+00\n",
      "  2.84513628e-04 8.82063977e-03 6.70814539e-02 0.00000000e+00]]\n"
     ]
    },
    {
     "data": {
      "image/png": "[encoded data removed]",
      "text/plain": [
       "<Figure size 648x432 with 2 Axes>"
      ]
     },
     "metadata": {
      "tags": []
     },
     "output_type": "display_data"
    }
   ],
   "source": [
    "random.seed(RANDOM_STATE) # For reproducibility, a seed needs to be passed to random number generator\n",
    "values = td_prediction(fn_random_policy, env, n_episodes=100000) # evaluation of random policy\n",
    "sleep(0.1) # pause the execution for a small amount time in order to not break the progress bar of tqdm\n",
    "print(values)\n",
    "fn_plot_heatmap_of_values(values) # a visualization of state values"
   ]
  },
  {
   "cell_type": "markdown",
   "metadata": {
    "id": "AiZEeHRczXuk"
   },
   "source": [
    "## Assignment 3\n",
    "Code  Sarsa (on-policy TD control) for estimating Q = $q_*$\n",
    "\n",
    "\n",
    "<img src='./images/SARSA.png' style='width:600px;'>"
   ]
  },
  {
   "cell_type": "code",
   "execution_count": null,
   "metadata": {
    "id": "mDvlNAMjzXuk"
   },
   "outputs": [],
   "source": [
    "def fn_e_greedy_policy(state, q, epsilon=epsilon):\n",
    "    '''\n",
    "    Function for epsilon-greedy policy.\n",
    "    Args:\n",
    "        state: current state of the environment\n",
    "        q: current estimate of action values\n",
    "        epsilon (optional): value of epsilon\n",
    "    Returns: action to be performed by the agent\n",
    "    '''\n",
    "    if random.random() < epsilon:\n",
    "        return random.randint(0, 3)\n",
    "    else:\n",
    "        current_q = q[state, :]\n",
    "        return custom_argmax(current_q)\n",
    "\n",
    "def custom_argmax(array):\n",
    "    '''\n",
    "    A custom argmax function. Numpy's implementation of argmax\n",
    "    always selects the element nearer to the beginning if there\n",
    "    are multiple maximum elements. This implementation rectifies\n",
    "    that for us.\n",
    "    Args:\n",
    "        array: a numpy array of action values in a state\n",
    "    Returns: optimal action to be performed\n",
    "    '''\n",
    "    indices = np.array(range(len(array)))\n",
    "    max_indices = indices[array == np.max(array)]\n",
    "    return random.choice(max_indices)\n",
    "\n",
    "def sarsa_control(policy_fn, env, n_episodes, alpha=alpha, epsilon=epsilon, gamma=gamma):\n",
    "    '''\n",
    "    Implementation of SARSA algorithm for control\n",
    "    Args:\n",
    "        policy_fn: function of agent's policy\n",
    "        env: gym environment object\n",
    "        n_episodes: number of episodes\n",
    "        alpha (optional): learning rate or step-size of the agent\n",
    "        epsilon (optional): value of epsilon which affects exploration and exploitation\n",
    "        gamma (optional): discount rate of the agent\n",
    "    Returns:\n",
    "        q: numpy array of action values learned by the agent\n",
    "    '''\n",
    "    q = np.zeros((64, 4))\n",
    "    for episode in tqdm(range(n_episodes)):\n",
    "        state = env.reset()\n",
    "        action = policy_fn(state, q, epsilon)\n",
    "        done = False\n",
    "        while not done:\n",
    "            next_state, reward, done, info = env.step(action)\n",
    "            next_action = policy_fn(next_state, q, epsilon)\n",
    "            td_target = reward + gamma * q[next_state, next_action]\n",
    "            td_error = td_target - q[state, action]\n",
    "            q[state, action] = q[state, action] + alpha * td_error\n",
    "            state = next_state\n",
    "            action = next_action\n",
    "    return q\n",
    "\n",
    "def q_to_onehot_policy(q):\n",
    "    '''\n",
    "    Converts action values to onehot encoded policy\n",
    "    Args:\n",
    "        q: numpy array of action values\n",
    "    Returns:\n",
    "        policy: numpy array of onehot encoded policy\n",
    "    '''\n",
    "    policy = np.zeros((64, 4))\n",
    "    for i in range(64):\n",
    "        policy[i, np.argmax(q[i, :])] = 1\n",
    "    return policy\n",
    "\n",
    "def q_to_values(q):\n",
    "    '''\n",
    "    Converts action values to state values\n",
    "    Args:\n",
    "        q: numpy array of action values\n",
    "    Returns:\n",
    "        values: numpy array of state values\n",
    "    '''\n",
    "    values = np.zeros((64, ))\n",
    "    for state in range(64):\n",
    "        current_q = q[state, :]\n",
    "        values[state] = np.max(current_q)\n",
    "    return values.reshape(8, 8)\n",
    "\n",
    "def tune_parameters(alpha_list, epsilon_list, gamma_list, policy_fn=fn_e_greedy_policy, env=env):\n",
    "    '''\n",
    "    A helper function to tune the parameters. Performs grid search on provided\n",
    "    parameter values.\n",
    "    Args:\n",
    "        alpha_list: a list of alpha values to be considered\n",
    "        epsilon_list: a list of epsilon values to be considered\n",
    "        gamma_list: a list of gamma values to be considered\n",
    "        policy_fn (optional): function of agent's policy\n",
    "        env (optional): gym environment object\n",
    "    Returns:\n",
    "        best_params: a tuple of best parameters\n",
    "        score_dict: a dictionary of scores obtained by all combinations of parameters\n",
    "    '''\n",
    "    from itertools import product\n",
    "    score_dict = dict()\n",
    "    param_list = list(product(alpha_list, epsilon_list, gamma_list))\n",
    "    for alpha, epsilon, gamma in tqdm(param_list):\n",
    "        q = np.zeros((64, 4))\n",
    "        current_params = (alpha, epsilon, gamma)\n",
    "        score_dict[current_params] = 0\n",
    "        for episode in range(1000):\n",
    "            state = env.reset()\n",
    "            action = policy_fn(state, q, epsilon)\n",
    "            done = False\n",
    "            while not done:\n",
    "                next_state, reward, done, info = env.step(action)\n",
    "                score_dict[current_params] += reward\n",
    "                next_action = policy_fn(next_state, q, epsilon)\n",
    "                td_target = reward + gamma * q[next_state, next_action]\n",
    "                td_error = td_target - q[state, action]\n",
    "                q[state, action] = q[state, action] + alpha * td_error\n",
    "                state = next_state\n",
    "                action = next_action\n",
    "    best_params = max(score_dict.keys(), key=lambda k: score_dict[k])\n",
    "    return best_params, score_dict"
   ]
  },
  {
   "cell_type": "code",
   "execution_count": null,
   "metadata": {
    "id": "yVHuxzuYzXum",
    "outputId": "6253b0b4-5212-4b8e-fe70-09e43fe2e573"
   },
   "outputs": [
    {
     "name": "stderr",
     "output_type": "stream",
     "text": [
      "100%|████████████████████████████████████████████████████████████████████████████████| 360/360 [11:44<00:00,  1.96s/it]"
     ]
    },
    {
     "name": "stdout",
     "output_type": "stream",
     "text": [
      "best alpha = 0.25\n",
      "best_epsilon = 0.1\n",
      "best_gamma = 0.99\n"
     ]
    },
    {
     "name": "stderr",
     "output_type": "stream",
     "text": [
      "\n"
     ]
    }
   ],
   "source": [
    "alpha_list = [0.01, 0.05, 0.1, 0.25, 0.5, 0.75, 0.8, 0.9, 0.95, 1.0]\n",
    "epsilon_list = [0.001, 0.005, 0.01, 0.05, 0.1, 0.5, 0.8, 0.9, 1.0]\n",
    "gamma_list = [0.8, 0.9, 0.95, 0.99]\n",
    "best_params, score_dict = tune_parameters(alpha_list, epsilon_list, gamma_list)\n",
    "b_alpha, b_epsilon, b_gamma = best_params\n",
    "sleep(0.1) # pause the execution for small amount of time in order to not break the progress bar of tqdm\n",
    "print(f'best alpha = {b_alpha}\\nbest_epsilon = {b_epsilon}\\nbest_gamma = {b_gamma}')"
   ]
  },
  {
   "cell_type": "markdown",
   "metadata": {
    "id": "Fn0kW1BYzXuo"
   },
   "source": [
    "The following cell shows whether there are any other parameters that obtained the same score as our best parameters and prints the best score."
   ]
  },
  {
   "cell_type": "code",
   "execution_count": null,
   "metadata": {
    "id": "7hRuY5M6zXup",
    "outputId": "78b8a95e-2b27-4fb5-b6e0-b4460f4ad6d0"
   },
   "outputs": [
    {
     "name": "stdout",
     "output_type": "stream",
     "text": [
      "[(0.25, 0.1, 0.99)]\n",
      "Best Score = 140.0\n"
     ]
    }
   ],
   "source": [
    "print([params for params in score_dict if score_dict[params] == score_dict[best_params]])\n",
    "best_score = score_dict[best_params]\n",
    "print('Best Score = {}'.format(best_score))"
   ]
  },
  {
   "cell_type": "markdown",
   "metadata": {
    "id": "rDI_T651zXup"
   },
   "source": [
    "Now that we saw what the best score is and confirmed that there are no other set of parameters which achieve the best score, lets train our agent using the obtained best parameters."
   ]
  },
  {
   "cell_type": "code",
   "execution_count": null,
   "metadata": {
    "id": "zFdikUt2zXuq",
    "outputId": "e950a620-4423-4acf-d223-4e5797f9beb2",
    "scrolled": false
   },
   "outputs": [
    {
     "name": "stdout",
     "output_type": "stream",
     "text": [
      "All episodes complete. Score 10.0\n",
      "  (Right)\n",
      "SFFFFFFF\n",
      "FFFFFFFF\n",
      "FFFHFFFF\n",
      "FFFFFHFF\n",
      "FFFHFFFF\n",
      "FHHFFFHF\n",
      "FHFFHFHF\n",
      "FFFHFFF\u001b[41mG\u001b[0m\n"
     ]
    }
   ],
   "source": [
    "q = sarsa_control(fn_e_greedy_policy, env, n_episodes=100000, alpha=b_alpha, epsilon=b_epsilon, gamma=b_gamma)\n",
    "policy = q_to_onehot_policy(q)\n",
    "plot_grid = q_to_values(q)\n",
    "fn_display(policy)"
   ]
  },
  {
   "cell_type": "markdown",
   "metadata": {
    "id": "RHxK7_zEzXur"
   },
   "source": [
    "WOW!!! Our agent succeeded in all 10 episodes! Time to celebrate and see the learned policy of the agent."
   ]
  },
  {
   "cell_type": "markdown",
   "metadata": {
    "id": "R3-6izEgzXur"
   },
   "source": [
    "### Evaluation\n",
    "Your submission should sucessfully plot heatmap for evaluation of the assignment\n",
    "Use Bellman Optimality Equaltion for State-Value Function\n",
    "<img src='./images/Bellman_Optimality_Equation.png'>"
   ]
  },
  {
   "cell_type": "code",
   "execution_count": null,
   "metadata": {
    "id": "AsIpECphzXus",
    "outputId": "dcff473a-cda1-41a0-c17a-8609ba000335",
    "scrolled": false
   },
   "outputs": [
    {
     "data": {
      "image/png": "[encoded data removed]",
      "text/plain": [
       "<Figure size 648x432 with 2 Axes>"
      ]
     },
     "metadata": {
      "tags": []
     },
     "output_type": "display_data"
    }
   ],
   "source": [
    "fn_plot_heatmap(plot_grid, policy)"
   ]
  }
 ],
 "metadata": {
  "colab": {
   "name": "200240128012_RL_Lab_Assignments_2_n_3_Submission.ipynb",
   "provenance": []
  },
  "kernelspec": {
   "display_name": "Python 3",
   "language": "python",
   "name": "python3"
  },
  "language_info": {
   "codemirror_mode": {
    "name": "ipython",
    "version": 3
   },
   "file_extension": ".py",
   "mimetype": "text/x-python",
   "name": "python",
   "nbconvert_exporter": "python",
   "pygments_lexer": "ipython3",
   "version": "3.7.6"
  }
 },
 "nbformat": 4,
 "nbformat_minor": 1
}

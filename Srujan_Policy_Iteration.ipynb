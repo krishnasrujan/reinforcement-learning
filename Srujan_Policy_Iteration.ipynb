{
 "cells": [
  {
   "cell_type": "code",
   "execution_count": 1,
   "metadata": {},
   "outputs": [],
   "source": [
    "# Import statements\n",
    "\n",
    "import numpy as np\n",
    "import os\n",
    "import matplotlib.pyplot as plt\n",
    "\n",
    "from utils.gridWorldGame import standard_grid, negative_grid, print_values, print_policy"
   ]
  },
  {
   "cell_type": "markdown",
   "metadata": {},
   "source": [
    "<img src = './images/mario_game.png'>\n"
   ]
  },
  {
   "cell_type": "code",
   "execution_count": 2,
   "metadata": {},
   "outputs": [],
   "source": [
    "# Some basic parameters\n",
    "inpDir = '../input'\n",
    "outDir = '../output'\n",
    "\n",
    "RANDOM_STATE = 42\n",
    "STEPS = 200\n",
    "\n",
    "# parameters for Matplotlib\n",
    "params = {'legend.fontsize': 'x-large',\n",
    "          'figure.figsize': (6, 6),\n",
    "          'axes.labelsize': 'x-large',\n",
    "          'axes.titlesize':'x-large',\n",
    "          'xtick.labelsize':'x-large',\n",
    "          'ytick.labelsize':'x-large'\n",
    "         }\n",
    "\n",
    "plt.rcParams.update(params)\n",
    "\n",
    "\n",
    "SMALL_ENOUGH = 1e-3\n",
    "GAMMA = 0.95\n",
    "ALL_POSSIBLE_ACTIONS = ('U', 'D', 'L', 'R')"
   ]
  },
  {
   "cell_type": "code",
   "execution_count": 3,
   "metadata": {},
   "outputs": [],
   "source": [
    "# Helper function to plot the grid\n",
    "\n",
    "def show_grid(val):\n",
    "    plot_grid = np.zeros(12, dtype = np.float).reshape(3,4)\n",
    "    for key in val:\n",
    "        plot_grid[key[0],key[1]] = val[key]\n",
    "    plot_grid[0,3] = 1\n",
    "    plot_grid[1,3] = -1\n",
    "    plot_grid[1,1] = 0\n",
    "    print ( plot_grid)\n",
    "    plt.matshow(plot_grid, cmap = 'RdBu');"
   ]
  },
  {
   "cell_type": "code",
   "execution_count": 4,
   "metadata": {},
   "outputs": [
    {
     "name": "stdout",
     "output_type": "stream",
     "text": [
      "Rewards:\n",
      "---------------------------\n",
      "-0.10|-0.10|-0.10| 1.00|\n",
      "---------------------------\n",
      "-0.10| 0.00|-0.10|-1.00|\n",
      "---------------------------\n",
      "-0.10|-0.10|-0.10|-0.10|\n"
     ]
    }
   ],
   "source": [
    "# Lets create a Grid for our Mario\n",
    "grid = negative_grid()\n",
    "print(\"Rewards:\")\n",
    "print_values(grid.rewards, grid)"
   ]
  },
  {
   "cell_type": "markdown",
   "metadata": {},
   "source": [
    "## Actions"
   ]
  },
  {
   "cell_type": "code",
   "execution_count": 5,
   "metadata": {},
   "outputs": [
    {
     "name": "stdout",
     "output_type": "stream",
     "text": [
      "Action Keys: dict_keys([(0, 0), (0, 1), (0, 2), (1, 0), (1, 2), (2, 0), (2, 1), (2, 2), (2, 3)])\n"
     ]
    }
   ],
   "source": [
    "# Note: Grid Action keys are defined along with the grid\n",
    "# What are the keys?\n",
    "print (\"Action Keys:\", grid.actions.keys())"
   ]
  },
  {
   "cell_type": "code",
   "execution_count": 6,
   "metadata": {},
   "outputs": [
    {
     "data": {
      "text/plain": [
       "{(0, 0): ('D', 'R'),\n",
       " (0, 1): ('L', 'R'),\n",
       " (0, 2): ('L', 'D', 'R'),\n",
       " (1, 0): ('U', 'D'),\n",
       " (1, 2): ('U', 'D', 'R'),\n",
       " (2, 0): ('U', 'R'),\n",
       " (2, 1): ('L', 'R'),\n",
       " (2, 2): ('L', 'R', 'U'),\n",
       " (2, 3): ('L', 'U')}"
      ]
     },
     "execution_count": 6,
     "metadata": {},
     "output_type": "execute_result"
    }
   ],
   "source": [
    "# What actions are possible at each of the location???\n",
    "\n",
    "grid.actions"
   ]
  },
  {
   "cell_type": "markdown",
   "metadata": {},
   "source": [
    "<img src = './images/mario_game.png' style=\"width:300px;\">"
   ]
  },
  {
   "cell_type": "markdown",
   "metadata": {},
   "source": [
    "**Note**: No action defined for terminal state"
   ]
  },
  {
   "cell_type": "markdown",
   "metadata": {},
   "source": [
    "## Define Policies for these actions"
   ]
  },
  {
   "cell_type": "code",
   "execution_count": 7,
   "metadata": {},
   "outputs": [
    {
     "name": "stdout",
     "output_type": "stream",
     "text": [
      "Initial policy:\n",
      "---------------------------\n",
      "  R  |  R  |  L  |     |\n",
      "---------------------------\n",
      "  R  |     |  D  |     |\n",
      "---------------------------\n",
      "  R  |  R  |  R  |  L  |\n"
     ]
    }
   ],
   "source": [
    "# Let's Define a Dict for policy\n",
    "policy = {}\n",
    "for s in grid.actions.keys():\n",
    "    policy[s] = np.random.choice(ALL_POSSIBLE_ACTIONS)\n",
    "    \n",
    "# initial policy\n",
    "print(\"Initial policy:\")\n",
    "print_policy(policy, grid)"
   ]
  },
  {
   "cell_type": "markdown",
   "metadata": {},
   "source": [
    "## States"
   ]
  },
  {
   "cell_type": "code",
   "execution_count": 8,
   "metadata": {},
   "outputs": [
    {
     "name": "stdout",
     "output_type": "stream",
     "text": [
      "States: {(0, 0), (1, 3), (2, 1), (2, 3), (1, 0), (0, 3), (0, 1), (1, 2), (2, 0), (2, 2), (0, 2)}\n"
     ]
    }
   ],
   "source": [
    "states = grid.all_states()\n",
    "print ('States:', states)"
   ]
  },
  {
   "cell_type": "code",
   "execution_count": 9,
   "metadata": {},
   "outputs": [
    {
     "name": "stdout",
     "output_type": "stream",
     "text": [
      "Actions: {(0, 0): ('D', 'R'), (0, 1): ('L', 'R'), (0, 2): ('L', 'D', 'R'), (1, 0): ('U', 'D'), (1, 2): ('U', 'D', 'R'), (2, 0): ('U', 'R'), (2, 1): ('L', 'R'), (2, 2): ('L', 'R', 'U'), (2, 3): ('L', 'U')}\n"
     ]
    }
   ],
   "source": [
    "print ('Actions:', grid.actions)"
   ]
  },
  {
   "cell_type": "code",
   "execution_count": 10,
   "metadata": {},
   "outputs": [
    {
     "name": "stdout",
     "output_type": "stream",
     "text": [
      "---------------------------\n",
      " 0.02| 0.99| 0.37| 0.00|\n",
      "---------------------------\n",
      " 0.71| 0.00| 0.00| 0.00|\n",
      "---------------------------\n",
      " 0.72| 0.29| 0.79| 0.75|\n"
     ]
    }
   ],
   "source": [
    "# Initialize V(s) - value function\n",
    "# Again a dict with keys as states\n",
    "# Random initialization of all Values where action is needed\n",
    "# zero for terminal states\n",
    "V = {}\n",
    "\n",
    "for s in states:\n",
    "    \n",
    "    if s in grid.actions:\n",
    "        V[s] = np.random.random()\n",
    "    else:\n",
    "        V[s] = 0\n",
    "\n",
    "# Initial value for all states in grid\n",
    "# print(V)\n",
    "print_values(V, grid)"
   ]
  },
  {
   "cell_type": "code",
   "execution_count": 11,
   "metadata": {},
   "outputs": [
    {
     "name": "stdout",
     "output_type": "stream",
     "text": [
      "[[ 0.02286359  0.9850106   0.37003739  1.        ]\n",
      " [ 0.7067456   0.          0.00447759 -1.        ]\n",
      " [ 0.71902756  0.2870768   0.78571051  0.74680039]]\n"
     ]
    },
    {
     "data": {
      "image/png": "[encoded data removed]",
      "text/plain": [
       "<Figure size 576x432 with 1 Axes>"
      ]
     },
     "metadata": {
      "needs_background": "light"
     },
     "output_type": "display_data"
    }
   ],
   "source": [
    "show_grid(V)"
   ]
  },
  {
   "cell_type": "code",
   "execution_count": 12,
   "metadata": {},
   "outputs": [
    {
     "name": "stdout",
     "output_type": "stream",
     "text": [
      "{(0, 0): 'R', (0, 1): 'R', (0, 2): 'L', (1, 0): 'R', (1, 2): 'D', (2, 0): 'R', (2, 1): 'R', (2, 2): 'R', (2, 3): 'L'}\n"
     ]
    }
   ],
   "source": [
    "print(policy)"
   ]
  },
  {
   "cell_type": "code",
   "execution_count": 13,
   "metadata": {},
   "outputs": [
    {
     "name": "stdout",
     "output_type": "stream",
     "text": [
      "{(0, 0): 0.0228635891424126, (1, 3): 0, (2, 1): 0.2870768033992933, (2, 3): 0.746800390825142, (1, 0): 0.7067455954438647, (0, 3): 0, (0, 1): 0.9850105992313773, (1, 2): 0.00447758816511401, (2, 0): 0.7190275597512239, (2, 2): 0.7857105085189428, (0, 2): 0.3700373911187693}\n"
     ]
    }
   ],
   "source": [
    "print(V)"
   ]
  },
  {
   "cell_type": "code",
   "execution_count": 14,
   "metadata": {},
   "outputs": [
    {
     "name": "stdout",
     "output_type": "stream",
     "text": [
      "values 1: \n",
      "---------------------------\n",
      " 0.02| 0.99| 0.37| 0.00|\n",
      "---------------------------\n",
      " 0.71| 0.00| 0.00| 0.00|\n",
      "---------------------------\n",
      " 0.72| 0.29| 0.79| 0.75|\n",
      "policy 1: \n",
      "---------------------------\n",
      "  R  |  R  |  L  |     |\n",
      "---------------------------\n",
      "  R  |     |  D  |     |\n",
      "---------------------------\n",
      "  R  |  R  |  R  |  L  |\n"
     ]
    },
    {
     "ename": "NameError",
     "evalue": "name 'new_a' is not defined",
     "output_type": "error",
     "traceback": [
      "\u001b[1;31m---------------------------------------------------------------------------\u001b[0m",
      "\u001b[1;31mNameError\u001b[0m                                 Traceback (most recent call last)",
      "\u001b[1;32m<ipython-input-14-48b0a0ceddfa>\u001b[0m in \u001b[0;36m<module>\u001b[1;34m\u001b[0m\n\u001b[0;32m     45\u001b[0m                     \u001b[0mbest_value\u001b[0m \u001b[1;33m=\u001b[0m \u001b[0mv\u001b[0m\u001b[1;33m\u001b[0m\u001b[1;33m\u001b[0m\u001b[0m\n\u001b[0;32m     46\u001b[0m                     \u001b[0mnew_action\u001b[0m \u001b[1;33m=\u001b[0m \u001b[0ma\u001b[0m\u001b[1;33m\u001b[0m\u001b[1;33m\u001b[0m\u001b[0m\n\u001b[1;32m---> 47\u001b[1;33m             \u001b[0mpolicy\u001b[0m\u001b[1;33m[\u001b[0m\u001b[0ms\u001b[0m\u001b[1;33m]\u001b[0m \u001b[1;33m=\u001b[0m \u001b[0mnew_a\u001b[0m  \u001b[1;31m# updating policy of a state where the move has highest v.\u001b[0m\u001b[1;33m\u001b[0m\u001b[1;33m\u001b[0m\u001b[0m\n\u001b[0m\u001b[0;32m     48\u001b[0m \u001b[1;33m\u001b[0m\u001b[0m\n\u001b[0;32m     49\u001b[0m             \u001b[1;32mif\u001b[0m \u001b[0mnew_action\u001b[0m \u001b[1;33m!=\u001b[0m \u001b[0mold_action\u001b[0m\u001b[1;33m:\u001b[0m  \u001b[1;31m# If policy doesn't change, it means we reached convergence\u001b[0m\u001b[1;33m\u001b[0m\u001b[1;33m\u001b[0m\u001b[0m\n",
      "\u001b[1;31mNameError\u001b[0m: name 'new_a' is not defined"
     ]
    }
   ],
   "source": [
    "iter = 0\n",
    "# Loop will run till convergence\n",
    "while True:\n",
    "    iter += 1\n",
    "    \n",
    "    print(\"values %d: \" % iter)\n",
    "    print_values(V, grid)\n",
    "    print(\"policy %d: \" % iter)\n",
    "    print_policy(policy, grid)\n",
    "    \n",
    "    # Policy Evaluation Step\n",
    "    while True:\n",
    "        biggest_change = 0\n",
    "        for s in states:      \n",
    "            old_value = V[s]\n",
    "\n",
    "            # V(s) only has value if it's not a terminal state\n",
    "            if s in policy:\n",
    "                \n",
    "                a = policy[s]      # picking the defined action from policy for that state\n",
    "                grid.set_state(s)  # setting current state as 's' for agent to take action from this state 's'\n",
    "                r = grid.move(a)   #  Make the move and get the Reward\n",
    "                #print(s,grid.current_state())\n",
    "                V[s] = r + GAMMA * V[grid.current_state()] # Update the value of current state\n",
    "                # returns value of next state \n",
    "                biggest_change = max(biggest_change, np.abs(old_value - V[s]))  # measure the change in value for current state\n",
    "\n",
    "        if biggest_change < SMALL_ENOUGH:      # If the change is not more than threshold, it means we reached convergence\n",
    "            break                              # break the loop\n",
    "\n",
    "    # policy improvement step\n",
    "    is_policy_converged = True\n",
    "    for s in states:\n",
    "        if s in policy:\n",
    "            old_action = policy[s]\n",
    "            best_value = -np.inf\n",
    "            # loop through all possible actions to find the best current action\n",
    "            \n",
    "            for a in ALL_POSSIBLE_ACTIONS:   # This loop gives best policy for that state \n",
    "                \n",
    "                grid.set_state(s)   # setting current state as 's'\n",
    "                r = grid.move(a)    # collecting reward after taking action\n",
    "                v = r + GAMMA * V[grid.current_state()]\n",
    "                if v > best_value:\n",
    "                    best_value = v\n",
    "                    new_action = a\n",
    "            policy[s] = new_a  # updating policy of a state where the move has highest v.\n",
    "            \n",
    "            if new_action != old_action:  # If policy doesn't change, it means we reached convergence\n",
    "                is_policy_converged = False  # If not we haven't\n",
    "\n",
    "    if is_policy_converged:\n",
    "        break"
   ]
  },
  {
   "cell_type": "code",
   "execution_count": null,
   "metadata": {},
   "outputs": [],
   "source": [
    "print(\"final values:\")\n",
    "print_values(V, grid)\n",
    "print(\"final policy:\")\n",
    "print_policy(policy, grid)\n",
    "show_grid(V)"
   ]
  },
  {
   "cell_type": "code",
   "execution_count": null,
   "metadata": {},
   "outputs": [],
   "source": []
  }
 ],
 "metadata": {
  "kernelspec": {
   "display_name": "Python 3",
   "language": "python",
   "name": "python3"
  },
  "language_info": {
   "codemirror_mode": {
    "name": "ipython",
    "version": 3
   },
   "file_extension": ".py",
   "mimetype": "text/x-python",
   "name": "python",
   "nbconvert_exporter": "python",
   "pygments_lexer": "ipython3",
   "version": "3.7.6"
  }
 },
 "nbformat": 4,
 "nbformat_minor": 4
}

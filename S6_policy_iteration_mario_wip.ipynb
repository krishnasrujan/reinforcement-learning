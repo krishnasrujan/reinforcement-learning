{
 "cells": [
  {
   "cell_type": "code",
   "execution_count": 1,
   "metadata": {},
   "outputs": [],
   "source": [
    "#!/usr/bin/env python3\n",
    "# -*- coding: utf-8 -*-"
   ]
  },
  {
   "cell_type": "markdown",
   "metadata": {},
   "source": [
    "# Policy Iteration Mario\n",
    "<p style=\"color:blue;\">\n",
    "By Pramod Sharma : pramod.sharma@prasami.com\n",
    "<p>\n",
    "Dated: 02-Feb- 2020"
   ]
  },
  {
   "cell_type": "markdown",
   "metadata": {},
   "source": [
    "## Acknowledgements\n",
    "### Standford University<br>\n",
    "Inspired from: https://github.com/lazyprogrammer/machine_learning_examples/tree/master/rl"
   ]
  },
  {
   "cell_type": "code",
   "execution_count": 2,
   "metadata": {},
   "outputs": [],
   "source": [
    "# Import statements\n",
    "\n",
    "import numpy as np\n",
    "import os\n",
    "import matplotlib.pyplot as plt\n",
    "\n",
    "from utils.gridWorldGame import standard_grid, negative_grid, print_values, print_policy"
   ]
  },
  {
   "cell_type": "markdown",
   "metadata": {},
   "source": [
    "<img src = './images/mario_game.png'>\n"
   ]
  },
  {
   "cell_type": "code",
   "execution_count": 3,
   "metadata": {},
   "outputs": [],
   "source": [
    "# Some basic parameters\n",
    "inpDir = '../input'\n",
    "outDir = '../output'\n",
    "\n",
    "RANDOM_STATE = 24\n",
    "STEPS = 200\n",
    "\n",
    "# parameters for Matplotlib\n",
    "params = {'legend.fontsize': 'x-large',\n",
    "          'figure.figsize': (6, 6),\n",
    "          'axes.labelsize': 'x-large',\n",
    "          'axes.titlesize':'x-large',\n",
    "          'xtick.labelsize':'x-large',\n",
    "          'ytick.labelsize':'x-large'\n",
    "         }\n",
    "\n",
    "plt.rcParams.update(params)\n",
    "\n",
    "\n",
    "SMALL_ENOUGH = 1e-3\n",
    "GAMMA = 0.95\n",
    "ALL_POSSIBLE_ACTIONS = ('U', 'D', 'L', 'R')"
   ]
  },
  {
   "cell_type": "code",
   "execution_count": 4,
   "metadata": {},
   "outputs": [],
   "source": [
    "# Helper function to plot the grid\n",
    "\n",
    "def show_grid(val):\n",
    "    plot_grid = np.zeros(12, dtype = np.float).reshape(3,4)\n",
    "    for key in val:\n",
    "        plot_grid[key[0],key[1]] = val[key]\n",
    "    plot_grid[0,3] = 1\n",
    "    plot_grid[1,3] = -1\n",
    "    plot_grid[1,1] = 0\n",
    "    print ( plot_grid)\n",
    "    plt.matshow(plot_grid, cmap = 'RdBu');"
   ]
  },
  {
   "cell_type": "code",
   "execution_count": 5,
   "metadata": {},
   "outputs": [
    {
     "name": "stdout",
     "output_type": "stream",
     "text": [
      "Rewards:\n",
      "---------------------------\n",
      "-0.10|-0.10|-0.10| 1.00|\n",
      "---------------------------\n",
      "-0.10| 0.00|-0.10|-1.00|\n",
      "---------------------------\n",
      "-0.10|-0.10|-0.10|-0.10|\n"
     ]
    }
   ],
   "source": [
    "# Lets create a Grid for our Mario\n",
    "grid = negative_grid()\n",
    "print(\"Rewards:\")\n",
    "print_values(grid.rewards, grid)"
   ]
  },
  {
   "cell_type": "markdown",
   "metadata": {},
   "source": [
    "## Actions"
   ]
  },
  {
   "cell_type": "code",
   "execution_count": 6,
   "metadata": {},
   "outputs": [
    {
     "name": "stdout",
     "output_type": "stream",
     "text": [
      "Action Keys: dict_keys([(0, 0), (0, 1), (0, 2), (1, 0), (1, 2), (2, 0), (2, 1), (2, 2), (2, 3)])\n"
     ]
    }
   ],
   "source": [
    "# Note: Grid Action keys are defined along with the grid\n",
    "# What are the keys?\n",
    "print (\"Action Keys:\", grid.actions.keys())"
   ]
  },
  {
   "cell_type": "code",
   "execution_count": 7,
   "metadata": {},
   "outputs": [
    {
     "data": {
      "text/plain": [
       "{(0, 0): ('D', 'R'),\n",
       " (0, 1): ('L', 'R'),\n",
       " (0, 2): ('L', 'D', 'R'),\n",
       " (1, 0): ('U', 'D'),\n",
       " (1, 2): ('U', 'D', 'R'),\n",
       " (2, 0): ('U', 'R'),\n",
       " (2, 1): ('L', 'R'),\n",
       " (2, 2): ('L', 'R', 'U'),\n",
       " (2, 3): ('L', 'U')}"
      ]
     },
     "execution_count": 7,
     "metadata": {},
     "output_type": "execute_result"
    }
   ],
   "source": [
    "# What actions are possible at each of the location???\n",
    "\n",
    "grid.actions"
   ]
  },
  {
   "cell_type": "markdown",
   "metadata": {},
   "source": [
    "<img src = './images/mario_game.png' style=\"width:300px;\">"
   ]
  },
  {
   "cell_type": "markdown",
   "metadata": {},
   "source": [
    "**Note**: No action defined for terminal state"
   ]
  },
  {
   "cell_type": "markdown",
   "metadata": {},
   "source": [
    "## Define Policies for these actions"
   ]
  },
  {
   "cell_type": "code",
   "execution_count": 8,
   "metadata": {},
   "outputs": [
    {
     "name": "stdout",
     "output_type": "stream",
     "text": [
      "Initial policy:\n",
      "---------------------------\n",
      "  R  |  D  |  D  |     |\n",
      "---------------------------\n",
      "  R  |     |  D  |     |\n",
      "---------------------------\n",
      "  U  |  D  |  L  |  R  |\n"
     ]
    }
   ],
   "source": [
    "# Let's Define a Dict for policy\n",
    "policy = {}\n",
    "for s in grid.actions.keys():\n",
    "    policy[s] = np.random.choice(ALL_POSSIBLE_ACTIONS)\n",
    "    \n",
    "# initial policy\n",
    "print(\"Initial policy:\")\n",
    "print_policy(policy, grid)"
   ]
  },
  {
   "cell_type": "markdown",
   "metadata": {},
   "source": [
    "## States"
   ]
  },
  {
   "cell_type": "code",
   "execution_count": 9,
   "metadata": {},
   "outputs": [
    {
     "name": "stdout",
     "output_type": "stream",
     "text": [
      "States: {(0, 0), (1, 3), (2, 1), (2, 3), (1, 0), (0, 3), (0, 1), (1, 2), (2, 0), (2, 2), (0, 2)}\n"
     ]
    }
   ],
   "source": [
    "states = grid.all_states()\n",
    "print ('States:', states)"
   ]
  },
  {
   "cell_type": "code",
   "execution_count": 10,
   "metadata": {},
   "outputs": [
    {
     "name": "stdout",
     "output_type": "stream",
     "text": [
      "Actions: {(0, 0): ('D', 'R'), (0, 1): ('L', 'R'), (0, 2): ('L', 'D', 'R'), (1, 0): ('U', 'D'), (1, 2): ('U', 'D', 'R'), (2, 0): ('U', 'R'), (2, 1): ('L', 'R'), (2, 2): ('L', 'R', 'U'), (2, 3): ('L', 'U')}\n"
     ]
    }
   ],
   "source": [
    "print ('Actions:', grid.actions)"
   ]
  },
  {
   "cell_type": "code",
   "execution_count": 11,
   "metadata": {},
   "outputs": [
    {
     "name": "stdout",
     "output_type": "stream",
     "text": [
      "---------------------------\n",
      " 0.36| 0.37| 0.24| 0.00|\n",
      "---------------------------\n",
      " 0.73| 0.00| 0.17| 0.00|\n",
      "---------------------------\n",
      " 0.01| 0.99| 0.34| 0.59|\n"
     ]
    }
   ],
   "source": [
    "# Initialize V(s) - value function\n",
    "# Again a dict with keys as states\n",
    "# Random initialization of all Values where action is needed\n",
    "# zero for terminal states\n",
    "V = {}\n",
    "\n",
    "for s in states:\n",
    "    \n",
    "    if s in grid.actions:\n",
    "        V[s] = np.random.random()\n",
    "    else:\n",
    "        V[s] = 0\n",
    "\n",
    "# Initial value for all states in grid\n",
    "# print(V)\n",
    "print_values(V, grid)"
   ]
  },
  {
   "cell_type": "code",
   "execution_count": 12,
   "metadata": {},
   "outputs": [
    {
     "name": "stdout",
     "output_type": "stream",
     "text": [
      "[[ 0.36332355  0.36957489  0.23863538  1.        ]\n",
      " [ 0.72825602  0.          0.16870283 -1.        ]\n",
      " [ 0.00862727  0.98954306  0.34246636  0.58764994]]\n"
     ]
    },
    {
     "data": {
      "image/png": "[encoded data removed]",
      "text/plain": [
       "<Figure size 576x432 with 1 Axes>"
      ]
     },
     "metadata": {
      "needs_background": "light"
     },
     "output_type": "display_data"
    }
   ],
   "source": [
    "show_grid(V)"
   ]
  },
  {
   "cell_type": "code",
   "execution_count": 13,
   "metadata": {},
   "outputs": [
    {
     "name": "stdout",
     "output_type": "stream",
     "text": [
      "{(0, 0): 'R', (0, 1): 'D', (0, 2): 'D', (1, 0): 'R', (1, 2): 'D', (2, 0): 'U', (2, 1): 'D', (2, 2): 'L', (2, 3): 'R'}\n"
     ]
    }
   ],
   "source": [
    "print(policy)"
   ]
  },
  {
   "cell_type": "code",
   "execution_count": 14,
   "metadata": {},
   "outputs": [
    {
     "name": "stdout",
     "output_type": "stream",
     "text": [
      "{(0, 0): 0.3633235480691501, (1, 3): 0, (2, 1): 0.9895430633476594, (2, 3): 0.587649942340769, (1, 0): 0.7282560158539026, (0, 3): 0, (0, 1): 0.3695748937751083, (1, 2): 0.1687028317616236, (2, 0): 0.008627273332389662, (2, 2): 0.3424663597807085, (0, 2): 0.23863537627264275}\n"
     ]
    }
   ],
   "source": [
    "print(V)"
   ]
  },
  {
   "cell_type": "code",
   "execution_count": 15,
   "metadata": {},
   "outputs": [
    {
     "name": "stdout",
     "output_type": "stream",
     "text": [
      "values 1: \n",
      "---------------------------\n",
      " 0.36| 0.37| 0.24| 0.00|\n",
      "---------------------------\n",
      " 0.73| 0.00| 0.17| 0.00|\n",
      "---------------------------\n",
      " 0.01| 0.99| 0.34| 0.59|\n",
      "policy 1: \n",
      "---------------------------\n",
      "  R  |  D  |  D  |     |\n",
      "---------------------------\n",
      "  R  |     |  D  |     |\n",
      "---------------------------\n",
      "  U  |  D  |  L  |  R  |\n",
      "values 2: \n",
      "---------------------------\n",
      "-1.99|-1.99|-1.98| 0.00|\n",
      "---------------------------\n",
      "-1.98| 0.00|-1.98| 0.00|\n",
      "---------------------------\n",
      "-1.98|-1.98|-1.98|-1.98|\n",
      "policy 2: \n",
      "---------------------------\n",
      "  D  |  R  |  R  |     |\n",
      "---------------------------\n",
      "  L  |     |  R  |     |\n",
      "---------------------------\n",
      "  R  |  U  |  L  |  U  |\n",
      "values 3: \n",
      "---------------------------\n",
      "-1.99| 0.85| 1.00| 0.00|\n",
      "---------------------------\n",
      "-1.99| 0.00|-1.00| 0.00|\n",
      "---------------------------\n",
      "-1.98|-1.98|-1.98|-1.00|\n",
      "policy 3: \n",
      "---------------------------\n",
      "  R  |  R  |  R  |     |\n",
      "---------------------------\n",
      "  D  |     |  U  |     |\n",
      "---------------------------\n",
      "  R  |  U  |  U  |  U  |\n",
      "values 4: \n",
      "---------------------------\n",
      " 0.71| 0.85| 1.00| 0.00|\n",
      "---------------------------\n",
      "-1.99| 0.00| 0.85| 0.00|\n",
      "---------------------------\n",
      "-1.99|-1.99| 0.71|-1.00|\n",
      "policy 4: \n",
      "---------------------------\n",
      "  R  |  R  |  R  |     |\n",
      "---------------------------\n",
      "  U  |     |  U  |     |\n",
      "---------------------------\n",
      "  R  |  R  |  U  |  L  |\n",
      "values 5: \n",
      "---------------------------\n",
      " 0.71| 0.85| 1.00| 0.00|\n",
      "---------------------------\n",
      " 0.57| 0.00| 0.85| 0.00|\n",
      "---------------------------\n",
      " 0.44| 0.57| 0.71| 0.57|\n",
      "policy 5: \n",
      "---------------------------\n",
      "  R  |  R  |  R  |     |\n",
      "---------------------------\n",
      "  U  |     |  U  |     |\n",
      "---------------------------\n",
      "  U  |  R  |  U  |  L  |\n"
     ]
    }
   ],
   "source": [
    "iter = 0\n",
    "# Policy Iterations till convergence \n",
    "while True:\n",
    "    iter += 1\n",
    "    \n",
    "    #################################\n",
    "    #    Printing Values amd Policy #\n",
    "    #################################\n",
    "    print(\"values %d: \" % iter)\n",
    "    print_values(V, grid)\n",
    "    print(\"policy %d: \" % iter)\n",
    "    print_policy(policy, grid)\n",
    "    ##########################\n",
    "    # policy evaluation step #\n",
    "    ##########################\n",
    "    while True:\n",
    "        biggest_change = 0\n",
    "        for s in states:\n",
    "            old_v = V[s]\n",
    "\n",
    "            # V(s) only has value if it's not a terminal state\n",
    "            if s in policy:\n",
    "                \n",
    "                a = policy[s] # pick action from the policy\n",
    "                grid.set_state(s) # Pick the point of this state, current_state returns this value\n",
    "                r = grid.move(a) #  Make the move and get the Reward\n",
    "                #print(s,grid.current_state())\n",
    "                V[s] = r + GAMMA * V[grid.current_state()] # get Value for current location and \n",
    "                # returns value of next state \n",
    "                biggest_change = max(biggest_change, np.abs(old_v - V[s]))\n",
    "\n",
    "        if biggest_change < SMALL_ENOUGH:\n",
    "            break\n",
    "\n",
    "    # policy improvement step\n",
    "    is_policy_converged = True\n",
    "    for s in states:\n",
    "        if s in policy:\n",
    "            old_a = policy[s]\n",
    "            new_a = None\n",
    "            best_value = -np.inf\n",
    "            # loop through all possible actions to find the best current action\n",
    "            for a in ALL_POSSIBLE_ACTIONS:\n",
    "                grid.set_state(s)\n",
    "                r = grid.move(a)\n",
    "                v = r + GAMMA * V[grid.current_state()]\n",
    "                if v > best_value:\n",
    "                    best_value = v\n",
    "                    new_a = a\n",
    "            policy[s] = new_a  # updating policy of a state where the move has highest v.\n",
    "            if new_a != old_a:\n",
    "                is_policy_converged = False\n",
    "\n",
    "    if is_policy_converged:\n",
    "        break"
   ]
  },
  {
   "cell_type": "code",
   "execution_count": 16,
   "metadata": {},
   "outputs": [
    {
     "name": "stdout",
     "output_type": "stream",
     "text": [
      "final values:\n",
      "---------------------------\n",
      " 0.71| 0.85| 1.00| 0.00|\n",
      "---------------------------\n",
      " 0.57| 0.00| 0.85| 0.00|\n",
      "---------------------------\n",
      " 0.44| 0.57| 0.71| 0.57|\n",
      "final policy:\n",
      "---------------------------\n",
      "  R  |  R  |  R  |     |\n",
      "---------------------------\n",
      "  U  |     |  U  |     |\n",
      "---------------------------\n",
      "  U  |  R  |  U  |  L  |\n",
      "[[ 0.7075      0.85        1.          1.        ]\n",
      " [ 0.572125    0.          0.85       -1.        ]\n",
      " [ 0.44351875  0.572125    0.7075      0.572125  ]]\n"
     ]
    },
    {
     "data": {
      "image/png": "[encoded data removed]",
      "text/plain": [
       "<Figure size 576x432 with 1 Axes>"
      ]
     },
     "metadata": {
      "needs_background": "light"
     },
     "output_type": "display_data"
    }
   ],
   "source": [
    "print(\"final values:\")\n",
    "print_values(V, grid)\n",
    "print(\"final policy:\")\n",
    "print_policy(policy, grid)\n",
    "show_grid(V)"
   ]
  },
  {
   "cell_type": "code",
   "execution_count": null,
   "metadata": {},
   "outputs": [],
   "source": []
  }
 ],
 "metadata": {
  "kernelspec": {
   "display_name": "Python 3",
   "language": "python",
   "name": "python3"
  },
  "language_info": {
   "codemirror_mode": {
    "name": "ipython",
    "version": 3
   },
   "file_extension": ".py",
   "mimetype": "text/x-python",
   "name": "python",
   "nbconvert_exporter": "python",
   "pygments_lexer": "ipython3",
   "version": "3.7.6"
  }
 },
 "nbformat": 4,
 "nbformat_minor": 4
}
